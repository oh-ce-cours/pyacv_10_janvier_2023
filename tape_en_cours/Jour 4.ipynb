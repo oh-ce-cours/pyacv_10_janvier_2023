{
 "cells": [
  {
   "cell_type": "markdown",
   "id": "e3181e4c",
   "metadata": {},
   "source": [
    "# Rappels \n",
    "\n",
    "* POO\n",
    "    * les attributs sont en lecture écriture n'importe quand et n'importe où (depuis l'objet ou en dehors)\n",
    "    * properties : \n",
    "        * permet de manipuler des méthodes come des attributs en définissant et appelant des \"getters\" et \"setters\" automatiquement\n",
    "        * permet de séparer l'implémentation de l'API \n",
    "    * `staticmethod`, `classmethod`"
   ]
  },
  {
   "cell_type": "markdown",
   "id": "71ebc36c",
   "metadata": {},
   "source": [
    "## fstrings \n",
    "\n",
    "* https://fstring.help/"
   ]
  },
  {
   "cell_type": "code",
   "execution_count": 13,
   "id": "87acfa43",
   "metadata": {},
   "outputs": [],
   "source": [
    "class Toto:\n",
    "    def __repr__(self):\n",
    "        return \"2\"\n",
    "    \n",
    "    def __str__(self):\n",
    "        return \"1\""
   ]
  },
  {
   "cell_type": "code",
   "execution_count": 14,
   "id": "13bb6f50",
   "metadata": {},
   "outputs": [
    {
     "name": "stdout",
     "output_type": "stream",
     "text": [
      "[2, 2]\n"
     ]
    }
   ],
   "source": [
    "print([Toto(), Toto()])"
   ]
  },
  {
   "cell_type": "code",
   "execution_count": 15,
   "id": "80ef1618",
   "metadata": {},
   "outputs": [
    {
     "name": "stdout",
     "output_type": "stream",
     "text": [
      "1\n"
     ]
    }
   ],
   "source": [
    "t = Toto()\n",
    "print(t)"
   ]
  },
  {
   "cell_type": "code",
   "execution_count": 19,
   "id": "e517e876",
   "metadata": {},
   "outputs": [
    {
     "data": {
      "text/plain": [
       "'1 -- 2'"
      ]
     },
     "execution_count": 19,
     "metadata": {},
     "output_type": "execute_result"
    }
   ],
   "source": [
    "f\"{t!s} -- {t!r}\""
   ]
  },
  {
   "cell_type": "code",
   "execution_count": 30,
   "id": "7ef9fe6a",
   "metadata": {},
   "outputs": [
    {
     "name": "stdout",
     "output_type": "stream",
     "text": [
      "123453456543\n",
      "'123453456543'\n"
     ]
    }
   ],
   "source": [
    "nb = 123453456543\n",
    "\n",
    "print(str(nb).zfill(4))\n",
    "print(f\"'{nb:>10}'\")"
   ]
  },
  {
   "cell_type": "code",
   "execution_count": null,
   "id": "3cb07cd9",
   "metadata": {},
   "outputs": [],
   "source": []
  }
 ],
 "metadata": {
  "kernelspec": {
   "display_name": "Python 3 (ipykernel)",
   "language": "python",
   "name": "python3"
  },
  "language_info": {
   "codemirror_mode": {
    "name": "ipython",
    "version": 3
   },
   "file_extension": ".py",
   "mimetype": "text/x-python",
   "name": "python",
   "nbconvert_exporter": "python",
   "pygments_lexer": "ipython3",
   "version": "3.9.9"
  }
 },
 "nbformat": 4,
 "nbformat_minor": 5
}
