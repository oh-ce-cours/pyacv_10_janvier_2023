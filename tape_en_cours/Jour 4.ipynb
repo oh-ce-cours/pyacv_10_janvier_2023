{
 "cells": [
  {
   "cell_type": "markdown",
   "id": "6b69c614",
   "metadata": {},
   "source": [
    "# Rappels \n",
    "\n",
    "* POO\n",
    "    * les attributs sont en lecture écriture n'importe quand et n'importe où (depuis l'objet ou en dehors)\n",
    "    * properties : \n",
    "        * permet de manipuler des méthodes come des attributs en définissant et appelant des \"getters\" et \"setters\" automatiquement\n",
    "        * permet de séparer l'implémentation de l'API \n",
    "    * `staticmethod`, `classmethod`"
   ]
  },
  {
   "cell_type": "markdown",
   "id": "49d561d5",
   "metadata": {},
   "source": [
    "## fstrings \n",
    "\n",
    "* https://fstring.help/"
   ]
  },
  {
   "cell_type": "code",
   "execution_count": 13,
   "id": "86f9c837",
   "metadata": {},
   "outputs": [],
   "source": [
    "class Toto:\n",
    "    def __repr__(self):\n",
    "        return \"2\"\n",
    "    \n",
    "    def __str__(self):\n",
    "        return \"1\""
   ]
  },
  {
   "cell_type": "code",
   "execution_count": 14,
   "id": "7bff15c2",
   "metadata": {},
   "outputs": [
    {
     "name": "stdout",
     "output_type": "stream",
     "text": [
      "[2, 2]\n"
     ]
    }
   ],
   "source": [
    "print([Toto(), Toto()])"
   ]
  },
  {
   "cell_type": "code",
   "execution_count": 15,
   "id": "6cf542ea",
   "metadata": {},
   "outputs": [
    {
     "name": "stdout",
     "output_type": "stream",
     "text": [
      "1\n"
     ]
    }
   ],
   "source": [
    "t = Toto()\n",
    "print(t)"
   ]
  },
  {
   "cell_type": "code",
   "execution_count": 19,
   "id": "a61a284f",
   "metadata": {},
   "outputs": [
    {
     "data": {
      "text/plain": [
       "'1 -- 2'"
      ]
     },
     "execution_count": 19,
     "metadata": {},
     "output_type": "execute_result"
    }
   ],
   "source": [
    "f\"{t!s} -- {t!r}\""
   ]
  },
  {
   "cell_type": "code",
   "execution_count": 42,
   "id": "3e5027be",
   "metadata": {},
   "outputs": [
    {
     "name": "stdout",
     "output_type": "stream",
     "text": [
      "0012\n",
      "'00012'\n"
     ]
    }
   ],
   "source": [
    "nb = \"12\"\n",
    "format_str = \"0>5.5\"\n",
    "\n",
    "print(str(nb).zfill(4))\n",
    "print(f\"'{nb:{format_str}}'\")"
   ]
  },
  {
   "cell_type": "code",
   "execution_count": 43,
   "id": "5ed106aa",
   "metadata": {},
   "outputs": [
    {
     "data": {
      "text/plain": [
       "'2022-11-04 13:37'"
      ]
     },
     "execution_count": 43,
     "metadata": {},
     "output_type": "execute_result"
    }
   ],
   "source": [
    "from datetime import datetime\n",
    "dt = datetime(2022, 4, 11, 13, 37)\n",
    "format_string = \"%Y-%d-%m %H:%M\"\n",
    "f\"{dt:{format_string}}\""
   ]
  },
  {
   "cell_type": "code",
   "execution_count": null,
   "id": "077b3270",
   "metadata": {},
   "outputs": [],
   "source": []
  },
  {
   "cell_type": "code",
   "execution_count": 48,
   "id": "35197cdc",
   "metadata": {},
   "outputs": [],
   "source": [
    "class Pizza:\n",
    "    def __init__(self, ingredients):\n",
    "        self.ingredients = ingredients\n",
    "\n",
    "    def __str__(self):\n",
    "        return f'Pizza({self.ingredients})'\n",
    "\n",
    "    @classmethod\n",
    "    def margherita(cls):\n",
    "        return cls(['mozzarella', 'tomatoes'])\n",
    "\n",
    "    @classmethod\n",
    "    def prosciutto(cls):\n",
    "        return cls(['mozzarella', 'tomatoes', 'ham'])"
   ]
  },
  {
   "cell_type": "code",
   "execution_count": 53,
   "id": "b44c6b29",
   "metadata": {},
   "outputs": [
    {
     "name": "stdout",
     "output_type": "stream",
     "text": [
      "Pizza(['mozzarella', 'tomatoes'])\n"
     ]
    }
   ],
   "source": [
    "print(Pizza.margherita())"
   ]
  },
  {
   "cell_type": "code",
   "execution_count": 55,
   "id": "e286a590",
   "metadata": {},
   "outputs": [],
   "source": [
    "class MyClass:\n",
    "    def method(self):\n",
    "        return \"méthode d'instance\", self\n",
    "    \n",
    "    @classmethod\n",
    "    def _classmethod(cls):\n",
    "        return 'méthode de classe', cls\n",
    "    \n",
    "    @staticmethod\n",
    "    def _staticmethod():\n",
    "        return 'méthode statique'"
   ]
  },
  {
   "cell_type": "code",
   "execution_count": 57,
   "id": "643b6d23",
   "metadata": {},
   "outputs": [
    {
     "name": "stdout",
     "output_type": "stream",
     "text": [
      "méthode statique\n",
      "('méthode de classe', <class '__main__.MyClass'>)\n",
      "(\"méthode d'instance\", <__main__.MyClass object at 0x7f5df85b07f0>)\n"
     ]
    }
   ],
   "source": [
    "print(MyClass._staticmethod())\n",
    "print(MyClass._classmethod())\n",
    "\n",
    "\n",
    "m = MyClass()\n",
    "print(MyClass.method(m))"
   ]
  },
  {
   "cell_type": "code",
   "execution_count": 58,
   "id": "71517ccd",
   "metadata": {},
   "outputs": [
    {
     "name": "stdout",
     "output_type": "stream",
     "text": [
      "méthode statique\n"
     ]
    }
   ],
   "source": [
    "m = MyClass()\n",
    "print(m._staticmethod())"
   ]
  },
  {
   "cell_type": "code",
   "execution_count": 59,
   "id": "48846c28",
   "metadata": {},
   "outputs": [
    {
     "name": "stdout",
     "output_type": "stream",
     "text": [
      "('méthode de classe', <class '__main__.MyClass'>)\n"
     ]
    }
   ],
   "source": [
    "print(m._classmethod())"
   ]
  },
  {
   "cell_type": "code",
   "execution_count": 60,
   "id": "bfcf42d5",
   "metadata": {},
   "outputs": [
    {
     "name": "stdout",
     "output_type": "stream",
     "text": [
      "(\"méthode d'instance\", <__main__.MyClass object at 0x7f5e004aed90>)\n"
     ]
    }
   ],
   "source": [
    "print(m.method())"
   ]
  },
  {
   "cell_type": "markdown",
   "id": "d0d518d2",
   "metadata": {},
   "source": [
    "## Héritage "
   ]
  },
  {
   "cell_type": "code",
   "execution_count": 74,
   "id": "ddf9efb7",
   "metadata": {},
   "outputs": [],
   "source": [
    "import abc\n",
    "\n",
    "class Bonjour(abc.ABC):\n",
    "    \"\"\"\n",
    "    Classe abstraite\n",
    "    \"\"\"\n",
    "    def __init__(self, nom):\n",
    "        print(\"dans __init__ bonjour\")\n",
    "        self.nom = nom\n",
    "    \n",
    "    @abc.abstractmethod\n",
    "    def dis_ton_nom(self):\n",
    "        # Méthode ”abstraite”\n",
    "        pritn(\"dans dis ton nom bonjour\")"
   ]
  },
  {
   "cell_type": "code",
   "execution_count": 75,
   "id": "ca6d21ed",
   "metadata": {},
   "outputs": [
    {
     "ename": "TypeError",
     "evalue": "Can't instantiate abstract class Bonjour with abstract method dis_ton_nom",
     "output_type": "error",
     "traceback": [
      "\u001b[0;31m---------------------------------------------------------------------------\u001b[0m",
      "\u001b[0;31mTypeError\u001b[0m                                 Traceback (most recent call last)",
      "Cell \u001b[0;32mIn[75], line 1\u001b[0m\n\u001b[0;32m----> 1\u001b[0m b \u001b[38;5;241m=\u001b[39m \u001b[43mBonjour\u001b[49m\u001b[43m(\u001b[49m\u001b[38;5;124;43m\"\u001b[39;49m\u001b[38;5;124;43mMatthieu\u001b[39;49m\u001b[38;5;124;43m\"\u001b[39;49m\u001b[43m)\u001b[49m\n",
      "\u001b[0;31mTypeError\u001b[0m: Can't instantiate abstract class Bonjour with abstract method dis_ton_nom"
     ]
    }
   ],
   "source": [
    "b = Bonjour(\"Matthieu\")"
   ]
  },
  {
   "cell_type": "code",
   "execution_count": 77,
   "id": "fbee3b42",
   "metadata": {},
   "outputs": [
    {
     "name": "stdout",
     "output_type": "stream",
     "text": [
      "dans __init__ bonjour\n",
      "Ciao, sono Matthieu\n"
     ]
    }
   ],
   "source": [
    "class BonjourItalien(Bonjour):\n",
    "    def dis_ton_nom(self):\n",
    "        \n",
    "        print(f\"Ciao, sono {self.nom}\")\n",
    "\n",
    "bi = BonjourItalien(\"Matthieu\")\n",
    "bi.dis_ton_nom()"
   ]
  },
  {
   "cell_type": "code",
   "execution_count": null,
   "id": "06232ac3",
   "metadata": {},
   "outputs": [],
   "source": []
  },
  {
   "cell_type": "code",
   "execution_count": null,
   "id": "0cbdd928",
   "metadata": {},
   "outputs": [],
   "source": []
  }
 ],
 "metadata": {
  "kernelspec": {
   "display_name": "Python 3 (ipykernel)",
   "language": "python",
   "name": "python3"
  },
  "language_info": {
   "codemirror_mode": {
    "name": "ipython",
    "version": 3
   },
   "file_extension": ".py",
   "mimetype": "text/x-python",
   "name": "python",
   "nbconvert_exporter": "python",
   "pygments_lexer": "ipython3",
   "version": "3.9.9"
  }
 },
 "nbformat": 4,
 "nbformat_minor": 5
}
