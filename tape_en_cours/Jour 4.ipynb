{
 "cells": [
  {
   "cell_type": "markdown",
   "id": "a74c122d",
   "metadata": {},
   "source": [
    "# Rappels \n",
    "\n",
    "* POO\n",
    "    * les attributs sont en lecture écriture n'importe quand et n'importe où (depuis l'objet ou en dehors)\n",
    "    * properties : \n",
    "        * permet de manipuler des méthodes come des attributs en définissant et appelant des \"getters\" et \"setters\" automatiquement\n",
    "        * permet de séparer l'implémentation de l'API \n",
    "    * `staticmethod`, `classmethod`"
   ]
  },
  {
   "cell_type": "markdown",
   "id": "e8945f8b",
   "metadata": {},
   "source": [
    "## fstrings \n",
    "\n",
    "* https://fstring.help/"
   ]
  },
  {
   "cell_type": "code",
   "execution_count": 13,
   "id": "cb70a283",
   "metadata": {},
   "outputs": [],
   "source": [
    "class Toto:\n",
    "    def __repr__(self):\n",
    "        return \"2\"\n",
    "    \n",
    "    def __str__(self):\n",
    "        return \"1\""
   ]
  },
  {
   "cell_type": "code",
   "execution_count": 14,
   "id": "4c8ba515",
   "metadata": {},
   "outputs": [
    {
     "name": "stdout",
     "output_type": "stream",
     "text": [
      "[2, 2]\n"
     ]
    }
   ],
   "source": [
    "print([Toto(), Toto()])"
   ]
  },
  {
   "cell_type": "code",
   "execution_count": 15,
   "id": "9d6e74a9",
   "metadata": {},
   "outputs": [
    {
     "name": "stdout",
     "output_type": "stream",
     "text": [
      "1\n"
     ]
    }
   ],
   "source": [
    "t = Toto()\n",
    "print(t)"
   ]
  },
  {
   "cell_type": "code",
   "execution_count": 19,
   "id": "215bda52",
   "metadata": {},
   "outputs": [
    {
     "data": {
      "text/plain": [
       "'1 -- 2'"
      ]
     },
     "execution_count": 19,
     "metadata": {},
     "output_type": "execute_result"
    }
   ],
   "source": [
    "f\"{t!s} -- {t!r}\""
   ]
  },
  {
   "cell_type": "code",
   "execution_count": 42,
   "id": "ee38084f",
   "metadata": {},
   "outputs": [
    {
     "name": "stdout",
     "output_type": "stream",
     "text": [
      "0012\n",
      "'00012'\n"
     ]
    }
   ],
   "source": [
    "nb = \"12\"\n",
    "format_str = \"0>5.5\"\n",
    "\n",
    "print(str(nb).zfill(4))\n",
    "print(f\"'{nb:{format_str}}'\")"
   ]
  },
  {
   "cell_type": "code",
   "execution_count": 43,
   "id": "64cb3bee",
   "metadata": {},
   "outputs": [
    {
     "data": {
      "text/plain": [
       "'2022-11-04 13:37'"
      ]
     },
     "execution_count": 43,
     "metadata": {},
     "output_type": "execute_result"
    }
   ],
   "source": [
    "from datetime import datetime\n",
    "dt = datetime(2022, 4, 11, 13, 37)\n",
    "format_string = \"%Y-%d-%m %H:%M\"\n",
    "f\"{dt:{format_string}}\""
   ]
  },
  {
   "cell_type": "code",
   "execution_count": null,
   "id": "8811cbf4",
   "metadata": {},
   "outputs": [],
   "source": []
  },
  {
   "cell_type": "code",
   "execution_count": 48,
   "id": "4ac32c3a",
   "metadata": {},
   "outputs": [],
   "source": [
    "class Pizza:\n",
    "    def __init__(self, ingredients):\n",
    "        self.ingredients = ingredients\n",
    "\n",
    "    def __str__(self):\n",
    "        return f'Pizza({self.ingredients})'\n",
    "\n",
    "    @classmethod\n",
    "    def margherita(cls):\n",
    "        return cls(['mozzarella', 'tomatoes'])\n",
    "\n",
    "    @classmethod\n",
    "    def prosciutto(cls):\n",
    "        return cls(['mozzarella', 'tomatoes', 'ham'])"
   ]
  },
  {
   "cell_type": "code",
   "execution_count": 53,
   "id": "f119def7",
   "metadata": {},
   "outputs": [
    {
     "name": "stdout",
     "output_type": "stream",
     "text": [
      "Pizza(['mozzarella', 'tomatoes'])\n"
     ]
    }
   ],
   "source": [
    "print(Pizza.margherita())"
   ]
  },
  {
   "cell_type": "code",
   "execution_count": 55,
   "id": "cc52c681",
   "metadata": {},
   "outputs": [],
   "source": [
    "class MyClass:\n",
    "    def method(self):\n",
    "        return \"méthode d'instance\", self\n",
    "    \n",
    "    @classmethod\n",
    "    def _classmethod(cls):\n",
    "        return 'méthode de classe', cls\n",
    "    \n",
    "    @staticmethod\n",
    "    def _staticmethod():\n",
    "        return 'méthode statique'"
   ]
  },
  {
   "cell_type": "code",
   "execution_count": 57,
   "id": "ed08cfe8",
   "metadata": {},
   "outputs": [
    {
     "name": "stdout",
     "output_type": "stream",
     "text": [
      "méthode statique\n",
      "('méthode de classe', <class '__main__.MyClass'>)\n",
      "(\"méthode d'instance\", <__main__.MyClass object at 0x7f5df85b07f0>)\n"
     ]
    }
   ],
   "source": [
    "print(MyClass._staticmethod())\n",
    "print(MyClass._classmethod())\n",
    "\n",
    "\n",
    "m = MyClass()\n",
    "print(MyClass.method(m))"
   ]
  },
  {
   "cell_type": "code",
   "execution_count": 58,
   "id": "00ff3d6b",
   "metadata": {},
   "outputs": [
    {
     "name": "stdout",
     "output_type": "stream",
     "text": [
      "méthode statique\n"
     ]
    }
   ],
   "source": [
    "m = MyClass()\n",
    "print(m._staticmethod())"
   ]
  },
  {
   "cell_type": "code",
   "execution_count": 59,
   "id": "7c75bc29",
   "metadata": {},
   "outputs": [
    {
     "name": "stdout",
     "output_type": "stream",
     "text": [
      "('méthode de classe', <class '__main__.MyClass'>)\n"
     ]
    }
   ],
   "source": [
    "print(m._classmethod())"
   ]
  },
  {
   "cell_type": "code",
   "execution_count": 60,
   "id": "17d5e3ff",
   "metadata": {},
   "outputs": [
    {
     "name": "stdout",
     "output_type": "stream",
     "text": [
      "(\"méthode d'instance\", <__main__.MyClass object at 0x7f5e004aed90>)\n"
     ]
    }
   ],
   "source": [
    "print(m.method())"
   ]
  },
  {
   "cell_type": "markdown",
   "id": "b9990d5c",
   "metadata": {},
   "source": [
    "## Héritage "
   ]
  },
  {
   "cell_type": "code",
   "execution_count": 64,
   "id": "9d5470d2",
   "metadata": {},
   "outputs": [],
   "source": [
    "import abc\n",
    "\n",
    "class Bonjour(abc.ABC):\n",
    "    \"\"\"\n",
    "    Classe abstraite\n",
    "    \"\"\"\n",
    "    def __init__(self, nom):\n",
    "        print(\"dans bonjour\")\n",
    "        self.nom = nom\n",
    "    \n",
    "    \n",
    "    def dis_ton_nom(self):\n",
    "        # Méthode ”abstraite”\n",
    "        raise NotImplementedError"
   ]
  },
  {
   "cell_type": "code",
   "execution_count": 65,
   "id": "7bcd1325",
   "metadata": {},
   "outputs": [
    {
     "name": "stdout",
     "output_type": "stream",
     "text": [
      "dans bonjour\n"
     ]
    }
   ],
   "source": [
    "b = Bonjour(\"Matthieu\")"
   ]
  },
  {
   "cell_type": "code",
   "execution_count": null,
   "id": "a21cb844",
   "metadata": {},
   "outputs": [],
   "source": []
  }
 ],
 "metadata": {
  "kernelspec": {
   "display_name": "Python 3 (ipykernel)",
   "language": "python",
   "name": "python3"
  },
  "language_info": {
   "codemirror_mode": {
    "name": "ipython",
    "version": 3
   },
   "file_extension": ".py",
   "mimetype": "text/x-python",
   "name": "python",
   "nbconvert_exporter": "python",
   "pygments_lexer": "ipython3",
   "version": "3.9.9"
  }
 },
 "nbformat": 4,
 "nbformat_minor": 5
}
