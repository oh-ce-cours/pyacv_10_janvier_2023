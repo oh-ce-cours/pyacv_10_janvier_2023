{
 "cells": [
  {
   "cell_type": "markdown",
   "id": "d76a5c1e",
   "metadata": {},
   "source": [
    "# Rappels \n",
    "\n",
    "* POO\n",
    "    * les attributs sont en lecture écriture n'importe quand et n'importe où (depuis l'objet ou en dehors)\n",
    "    * properties : \n",
    "        * permet de manipuler des méthodes come des attributs en définissant et appelant des \"getters\" et \"setters\" automatiquement\n",
    "        * permet de séparer l'implémentation de l'API \n",
    "    * `staticmethod`, `classmethod`"
   ]
  },
  {
   "cell_type": "markdown",
   "id": "1cdd3e86",
   "metadata": {},
   "source": [
    "## fstrings \n",
    "\n",
    "* https://fstring.help/"
   ]
  },
  {
   "cell_type": "code",
   "execution_count": 13,
   "id": "9a51577d",
   "metadata": {},
   "outputs": [],
   "source": [
    "class Toto:\n",
    "    def __repr__(self):\n",
    "        return \"2\"\n",
    "    \n",
    "    def __str__(self):\n",
    "        return \"1\""
   ]
  },
  {
   "cell_type": "code",
   "execution_count": 14,
   "id": "49f42e58",
   "metadata": {},
   "outputs": [
    {
     "name": "stdout",
     "output_type": "stream",
     "text": [
      "[2, 2]\n"
     ]
    }
   ],
   "source": [
    "print([Toto(), Toto()])"
   ]
  },
  {
   "cell_type": "code",
   "execution_count": 15,
   "id": "c31c4ff9",
   "metadata": {},
   "outputs": [
    {
     "name": "stdout",
     "output_type": "stream",
     "text": [
      "1\n"
     ]
    }
   ],
   "source": [
    "t = Toto()\n",
    "print(t)"
   ]
  },
  {
   "cell_type": "code",
   "execution_count": 19,
   "id": "044c59e7",
   "metadata": {},
   "outputs": [
    {
     "data": {
      "text/plain": [
       "'1 -- 2'"
      ]
     },
     "execution_count": 19,
     "metadata": {},
     "output_type": "execute_result"
    }
   ],
   "source": [
    "f\"{t!s} -- {t!r}\""
   ]
  },
  {
   "cell_type": "code",
   "execution_count": null,
   "id": "24404e33",
   "metadata": {},
   "outputs": [],
   "source": [
    "nb = 3\n",
    "\n",
    "str()"
   ]
  }
 ],
 "metadata": {
  "kernelspec": {
   "display_name": "Python 3 (ipykernel)",
   "language": "python",
   "name": "python3"
  },
  "language_info": {
   "codemirror_mode": {
    "name": "ipython",
    "version": 3
   },
   "file_extension": ".py",
   "mimetype": "text/x-python",
   "name": "python",
   "nbconvert_exporter": "python",
   "pygments_lexer": "ipython3",
   "version": "3.9.9"
  }
 },
 "nbformat": 4,
 "nbformat_minor": 5
}
