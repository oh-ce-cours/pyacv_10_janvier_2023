{
 "cells": [
  {
   "cell_type": "markdown",
   "id": "80780343",
   "metadata": {},
   "source": [
    "# Rappels \n",
    "\n",
    "* POO\n",
    "    * les attributs sont en lecture écriture n'importe quand et n'importe où (depuis l'objet ou en dehors)\n",
    "    * properties : \n",
    "        * permet de manipuler des méthodes come des attributs en définissant et appelant des \"getters\" et \"setters\" automatiquement\n",
    "        * permet de séparer l'implémentation de l'API \n",
    "    * `staticmethod`, `classmethod`"
   ]
  },
  {
   "cell_type": "markdown",
   "id": "80a36806",
   "metadata": {},
   "source": [
    "## fstrings \n",
    "\n",
    "* https://fstring.help/"
   ]
  },
  {
   "cell_type": "code",
   "execution_count": 13,
   "id": "a32305c5",
   "metadata": {},
   "outputs": [],
   "source": [
    "class Toto:\n",
    "    def __repr__(self):\n",
    "        return \"2\"\n",
    "    \n",
    "    def __str__(self):\n",
    "        return \"1\""
   ]
  },
  {
   "cell_type": "code",
   "execution_count": 14,
   "id": "f6e312c2",
   "metadata": {},
   "outputs": [
    {
     "name": "stdout",
     "output_type": "stream",
     "text": [
      "[2, 2]\n"
     ]
    }
   ],
   "source": [
    "print([Toto(), Toto()])"
   ]
  },
  {
   "cell_type": "code",
   "execution_count": 15,
   "id": "e563cf3b",
   "metadata": {},
   "outputs": [
    {
     "name": "stdout",
     "output_type": "stream",
     "text": [
      "1\n"
     ]
    }
   ],
   "source": [
    "t = Toto()\n",
    "print(t)"
   ]
  },
  {
   "cell_type": "code",
   "execution_count": 19,
   "id": "088489c2",
   "metadata": {},
   "outputs": [
    {
     "data": {
      "text/plain": [
       "'1 -- 2'"
      ]
     },
     "execution_count": 19,
     "metadata": {},
     "output_type": "execute_result"
    }
   ],
   "source": [
    "f\"{t!s} -- {t!r}\""
   ]
  },
  {
   "cell_type": "code",
   "execution_count": 42,
   "id": "cb5e53c9",
   "metadata": {},
   "outputs": [
    {
     "name": "stdout",
     "output_type": "stream",
     "text": [
      "0012\n",
      "'00012'\n"
     ]
    }
   ],
   "source": [
    "nb = \"12\"\n",
    "format_str = \"0>5.5\"\n",
    "\n",
    "print(str(nb).zfill(4))\n",
    "print(f\"'{nb:{format_str}}'\")"
   ]
  },
  {
   "cell_type": "code",
   "execution_count": 43,
   "id": "991de13a",
   "metadata": {},
   "outputs": [
    {
     "data": {
      "text/plain": [
       "'2022-11-04 13:37'"
      ]
     },
     "execution_count": 43,
     "metadata": {},
     "output_type": "execute_result"
    }
   ],
   "source": [
    "from datetime import datetime\n",
    "dt = datetime(2022, 4, 11, 13, 37)\n",
    "format_string = \"%Y-%d-%m %H:%M\"\n",
    "f\"{dt:{format_string}}\""
   ]
  },
  {
   "cell_type": "code",
   "execution_count": null,
   "id": "3c2c8cd2",
   "metadata": {},
   "outputs": [],
   "source": []
  },
  {
   "cell_type": "code",
   "execution_count": 48,
   "id": "55482439",
   "metadata": {},
   "outputs": [],
   "source": [
    "class Pizza:\n",
    "    def __init__(self, ingredients):\n",
    "        self.ingredients = ingredients\n",
    "\n",
    "    def __str__(self):\n",
    "        return f'Pizza({self.ingredients})'\n",
    "\n",
    "    @classmethod\n",
    "    def margherita(cls):\n",
    "        return cls(['mozzarella', 'tomatoes'])\n",
    "\n",
    "    @classmethod\n",
    "    def prosciutto(cls):\n",
    "        return cls(['mozzarella', 'tomatoes', 'ham'])"
   ]
  },
  {
   "cell_type": "code",
   "execution_count": 53,
   "id": "cfdcd27f",
   "metadata": {},
   "outputs": [
    {
     "name": "stdout",
     "output_type": "stream",
     "text": [
      "Pizza(['mozzarella', 'tomatoes'])\n"
     ]
    }
   ],
   "source": [
    "print(Pizza.margherita())"
   ]
  },
  {
   "cell_type": "code",
   "execution_count": 55,
   "id": "4f3bed7b",
   "metadata": {},
   "outputs": [],
   "source": [
    "class MyClass:\n",
    "    def method(self):\n",
    "        return \"méthode d'instance\", self\n",
    "    \n",
    "    @classmethod\n",
    "    def _classmethod(cls):\n",
    "        return 'méthode de classe', cls\n",
    "    \n",
    "    @staticmethod\n",
    "    def _staticmethod():\n",
    "        return 'méthode statique'"
   ]
  },
  {
   "cell_type": "code",
   "execution_count": 56,
   "id": "ced03f2b",
   "metadata": {},
   "outputs": [
    {
     "name": "stdout",
     "output_type": "stream",
     "text": [
      "méthode statique\n",
      "('méthode de classe', <class '__main__.MyClass'>)\n"
     ]
    },
    {
     "ename": "TypeError",
     "evalue": "method() missing 1 required positional argument: 'self'",
     "output_type": "error",
     "traceback": [
      "\u001b[0;31m---------------------------------------------------------------------------\u001b[0m",
      "\u001b[0;31mTypeError\u001b[0m                                 Traceback (most recent call last)",
      "Cell \u001b[0;32mIn[56], line 3\u001b[0m\n\u001b[1;32m      1\u001b[0m \u001b[38;5;28mprint\u001b[39m(MyClass\u001b[38;5;241m.\u001b[39m_staticmethod())\n\u001b[1;32m      2\u001b[0m \u001b[38;5;28mprint\u001b[39m(MyClass\u001b[38;5;241m.\u001b[39m_classmethod())\n\u001b[0;32m----> 3\u001b[0m \u001b[38;5;28mprint\u001b[39m(\u001b[43mMyClass\u001b[49m\u001b[38;5;241;43m.\u001b[39;49m\u001b[43mmethod\u001b[49m\u001b[43m(\u001b[49m\u001b[43m)\u001b[49m)\n",
      "\u001b[0;31mTypeError\u001b[0m: method() missing 1 required positional argument: 'self'"
     ]
    }
   ],
   "source": [
    "print(MyClass._staticmethod())\n",
    "print(MyClass._classmethod())\n",
    "print(MyClass.method())"
   ]
  },
  {
   "cell_type": "code",
   "execution_count": null,
   "id": "5922b95b",
   "metadata": {},
   "outputs": [],
   "source": []
  }
 ],
 "metadata": {
  "kernelspec": {
   "display_name": "Python 3 (ipykernel)",
   "language": "python",
   "name": "python3"
  },
  "language_info": {
   "codemirror_mode": {
    "name": "ipython",
    "version": 3
   },
   "file_extension": ".py",
   "mimetype": "text/x-python",
   "name": "python",
   "nbconvert_exporter": "python",
   "pygments_lexer": "ipython3",
   "version": "3.9.9"
  }
 },
 "nbformat": 4,
 "nbformat_minor": 5
}
