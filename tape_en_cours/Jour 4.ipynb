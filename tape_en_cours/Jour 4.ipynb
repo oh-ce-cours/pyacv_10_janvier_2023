{
 "cells": [
  {
   "cell_type": "markdown",
   "id": "7812f365",
   "metadata": {},
   "source": [
    "# Rappels \n",
    "\n",
    "* POO\n",
    "    * les attributs sont en lecture écriture n'importe quand et n'importe où (depuis l'objet ou en dehors)\n",
    "    * properties : \n",
    "        * permet de manipuler des méthodes come des attributs en définissant et appelant des \"getters\" et \"setters\" automatiquement\n",
    "        * permet de séparer l'implémentation de l'API \n",
    "    * `staticmethod`, `classmethod`"
   ]
  },
  {
   "cell_type": "markdown",
   "id": "55c564e1",
   "metadata": {},
   "source": [
    "## fstrings \n",
    "\n",
    "* https://fstring.help/"
   ]
  },
  {
   "cell_type": "code",
   "execution_count": 13,
   "id": "7f102ca0",
   "metadata": {},
   "outputs": [],
   "source": [
    "class Toto:\n",
    "    def __repr__(self):\n",
    "        return \"2\"\n",
    "    \n",
    "    def __str__(self):\n",
    "        return \"1\""
   ]
  },
  {
   "cell_type": "code",
   "execution_count": 14,
   "id": "eb1c2eb9",
   "metadata": {},
   "outputs": [
    {
     "name": "stdout",
     "output_type": "stream",
     "text": [
      "[2, 2]\n"
     ]
    }
   ],
   "source": [
    "print([Toto(), Toto()])"
   ]
  },
  {
   "cell_type": "code",
   "execution_count": 15,
   "id": "7a2d2dc4",
   "metadata": {},
   "outputs": [
    {
     "name": "stdout",
     "output_type": "stream",
     "text": [
      "1\n"
     ]
    }
   ],
   "source": [
    "t = Toto()\n",
    "print(t)"
   ]
  },
  {
   "cell_type": "code",
   "execution_count": 19,
   "id": "61748cfb",
   "metadata": {},
   "outputs": [
    {
     "data": {
      "text/plain": [
       "'1 -- 2'"
      ]
     },
     "execution_count": 19,
     "metadata": {},
     "output_type": "execute_result"
    }
   ],
   "source": [
    "f\"{t!s} -- {t!r}\""
   ]
  },
  {
   "cell_type": "code",
   "execution_count": 42,
   "id": "fce1d0c0",
   "metadata": {},
   "outputs": [
    {
     "name": "stdout",
     "output_type": "stream",
     "text": [
      "0012\n",
      "'00012'\n"
     ]
    }
   ],
   "source": [
    "nb = \"12\"\n",
    "format_str = \"0>5.5\"\n",
    "\n",
    "print(str(nb).zfill(4))\n",
    "print(f\"'{nb:{format_str}}'\")"
   ]
  },
  {
   "cell_type": "code",
   "execution_count": 43,
   "id": "95c2502b",
   "metadata": {},
   "outputs": [
    {
     "data": {
      "text/plain": [
       "'2022-11-04 13:37'"
      ]
     },
     "execution_count": 43,
     "metadata": {},
     "output_type": "execute_result"
    }
   ],
   "source": [
    "from datetime import datetime\n",
    "dt = datetime(2022, 4, 11, 13, 37)\n",
    "format_string = \"%Y-%d-%m %H:%M\"\n",
    "f\"{dt:{format_string}}\""
   ]
  },
  {
   "cell_type": "code",
   "execution_count": null,
   "id": "dc5302c5",
   "metadata": {},
   "outputs": [],
   "source": []
  },
  {
   "cell_type": "code",
   "execution_count": 48,
   "id": "3c6a6dd1",
   "metadata": {},
   "outputs": [],
   "source": [
    "class Pizza:\n",
    "    def __init__(self, ingredients):\n",
    "        self.ingredients = ingredients\n",
    "\n",
    "    def __str__(self):\n",
    "        return f'Pizza({self.ingredients})'\n",
    "\n",
    "    @classmethod\n",
    "    def margherita(cls):\n",
    "        return cls(['mozzarella', 'tomatoes'])\n",
    "\n",
    "    @classmethod\n",
    "    def prosciutto(cls):\n",
    "        return cls(['mozzarella', 'tomatoes', 'ham'])"
   ]
  },
  {
   "cell_type": "code",
   "execution_count": 53,
   "id": "8e550d6f",
   "metadata": {},
   "outputs": [
    {
     "name": "stdout",
     "output_type": "stream",
     "text": [
      "Pizza(['mozzarella', 'tomatoes'])\n"
     ]
    }
   ],
   "source": [
    "print(Pizza.margherita())"
   ]
  },
  {
   "cell_type": "code",
   "execution_count": 55,
   "id": "624ae54e",
   "metadata": {},
   "outputs": [],
   "source": [
    "class MyClass:\n",
    "    def method(self):\n",
    "        return \"méthode d'instance\", self\n",
    "    \n",
    "    @classmethod\n",
    "    def _classmethod(cls):\n",
    "        return 'méthode de classe', cls\n",
    "    \n",
    "    @staticmethod\n",
    "    def _staticmethod():\n",
    "        return 'méthode statique'"
   ]
  },
  {
   "cell_type": "code",
   "execution_count": 57,
   "id": "d2ce3d5d",
   "metadata": {},
   "outputs": [
    {
     "name": "stdout",
     "output_type": "stream",
     "text": [
      "méthode statique\n",
      "('méthode de classe', <class '__main__.MyClass'>)\n",
      "(\"méthode d'instance\", <__main__.MyClass object at 0x7f5df85b07f0>)\n"
     ]
    }
   ],
   "source": [
    "print(MyClass._staticmethod())\n",
    "print(MyClass._classmethod())\n",
    "\n",
    "\n",
    "m = MyClass()\n",
    "print(MyClass.method(m))"
   ]
  },
  {
   "cell_type": "code",
   "execution_count": 58,
   "id": "7853ffa1",
   "metadata": {},
   "outputs": [
    {
     "name": "stdout",
     "output_type": "stream",
     "text": [
      "méthode statique\n"
     ]
    }
   ],
   "source": [
    "m = MyClass()\n",
    "print(m._staticmethod())"
   ]
  },
  {
   "cell_type": "code",
   "execution_count": 59,
   "id": "456495e4",
   "metadata": {},
   "outputs": [
    {
     "name": "stdout",
     "output_type": "stream",
     "text": [
      "('méthode de classe', <class '__main__.MyClass'>)\n"
     ]
    }
   ],
   "source": [
    "print(m._classmethod())"
   ]
  },
  {
   "cell_type": "code",
   "execution_count": 60,
   "id": "116d1d35",
   "metadata": {},
   "outputs": [
    {
     "name": "stdout",
     "output_type": "stream",
     "text": [
      "(\"méthode d'instance\", <__main__.MyClass object at 0x7f5e004aed90>)\n"
     ]
    }
   ],
   "source": [
    "print(m.method())"
   ]
  },
  {
   "cell_type": "markdown",
   "id": "6a64fcb7",
   "metadata": {},
   "source": [
    "## Héritage "
   ]
  },
  {
   "cell_type": "code",
   "execution_count": 69,
   "id": "f419576f",
   "metadata": {},
   "outputs": [],
   "source": [
    "import abc\n",
    "\n",
    "class Bonjour(abc.ABC):\n",
    "    \"\"\"\n",
    "    Classe abstraite\n",
    "    \"\"\"\n",
    "    def __init__(self, nom):\n",
    "        print(\"dans bonjour\")\n",
    "        self.nom = nom\n",
    "    \n",
    "    @abc.abstractmethod\n",
    "    def dis_ton_nom(self):\n",
    "        # Méthode ”abstraite”\n",
    "        pritn(\"dans bonjour\")"
   ]
  },
  {
   "cell_type": "code",
   "execution_count": 70,
   "id": "b7727bb6",
   "metadata": {},
   "outputs": [
    {
     "ename": "TypeError",
     "evalue": "Can't instantiate abstract class Bonjour with abstract method dis_ton_nom",
     "output_type": "error",
     "traceback": [
      "\u001b[0;31m---------------------------------------------------------------------------\u001b[0m",
      "\u001b[0;31mTypeError\u001b[0m                                 Traceback (most recent call last)",
      "Cell \u001b[0;32mIn[70], line 1\u001b[0m\n\u001b[0;32m----> 1\u001b[0m b \u001b[38;5;241m=\u001b[39m \u001b[43mBonjour\u001b[49m\u001b[43m(\u001b[49m\u001b[38;5;124;43m\"\u001b[39;49m\u001b[38;5;124;43mMatthieu\u001b[39;49m\u001b[38;5;124;43m\"\u001b[39;49m\u001b[43m)\u001b[49m\n",
      "\u001b[0;31mTypeError\u001b[0m: Can't instantiate abstract class Bonjour with abstract method dis_ton_nom"
     ]
    }
   ],
   "source": [
    "b = Bonjour(\"Matthieu\")"
   ]
  },
  {
   "cell_type": "code",
   "execution_count": 72,
   "id": "5758140d",
   "metadata": {},
   "outputs": [
    {
     "ename": "TypeError",
     "evalue": "Can't instantiate abstract class BonjourItalien with abstract method dis_ton_nom",
     "output_type": "error",
     "traceback": [
      "\u001b[0;31m---------------------------------------------------------------------------\u001b[0m",
      "\u001b[0;31mTypeError\u001b[0m                                 Traceback (most recent call last)",
      "Cell \u001b[0;32mIn[72], line 4\u001b[0m\n\u001b[1;32m      1\u001b[0m \u001b[38;5;28;01mclass\u001b[39;00m \u001b[38;5;21;01mBonjourItalien\u001b[39;00m(Bonjour):\n\u001b[1;32m      2\u001b[0m     \u001b[38;5;28;01mpass\u001b[39;00m\n\u001b[0;32m----> 4\u001b[0m bi \u001b[38;5;241m=\u001b[39m \u001b[43mBonjourItalien\u001b[49m\u001b[43m(\u001b[49m\u001b[38;5;124;43m\"\u001b[39;49m\u001b[38;5;124;43mMatthieu\u001b[39;49m\u001b[38;5;124;43m\"\u001b[39;49m\u001b[43m)\u001b[49m\n",
      "\u001b[0;31mTypeError\u001b[0m: Can't instantiate abstract class BonjourItalien with abstract method dis_ton_nom"
     ]
    }
   ],
   "source": [
    "class BonjourItalien(Bonjour):\n",
    "    pass\n",
    "\n",
    "bi = BonjourItalien(\"Matthieu\")"
   ]
  },
  {
   "cell_type": "code",
   "execution_count": null,
   "id": "bd40c01c",
   "metadata": {},
   "outputs": [],
   "source": []
  }
 ],
 "metadata": {
  "kernelspec": {
   "display_name": "Python 3 (ipykernel)",
   "language": "python",
   "name": "python3"
  },
  "language_info": {
   "codemirror_mode": {
    "name": "ipython",
    "version": 3
   },
   "file_extension": ".py",
   "mimetype": "text/x-python",
   "name": "python",
   "nbconvert_exporter": "python",
   "pygments_lexer": "ipython3",
   "version": "3.9.9"
  }
 },
 "nbformat": 4,
 "nbformat_minor": 5
}
