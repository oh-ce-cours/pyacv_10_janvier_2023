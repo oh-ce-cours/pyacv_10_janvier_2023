{
 "cells": [
  {
   "cell_type": "markdown",
   "id": "6171be62",
   "metadata": {},
   "source": [
    "# Matin \n",
    "\n",
    "* présentation de python \n",
    "* parlé des environnements virtuels\n",
    "    * intéressants pour avoir plusieurs versions de bibliothèques en parallèle\n",
    "    * globalement : un environnement par projet \n",
    "* parlé des chemins de bibliothèques\n",
    "    * `import monmodule; print(monmodule.__file__)`\n",
    "    * il y a une bibliothèque standard (`batteries included`) assez complète \n",
    "    * il y a des biliothèques tierces que l'on peut installer => `site-packages`"
   ]
  },
  {
   "cell_type": "markdown",
   "id": "e78415e2",
   "metadata": {},
   "source": [
    "# Après-midi\n",
    "\n",
    "* virtualenvs \n",
    "    * création : `python -m venv LE_NOM`\n",
    "    * activation : \n",
    "        * linux : `source LE_NOM/bin/activate`\n",
    "        * windows : `LE_NOM\\Scripts\\activate`\n",
    "        * l'activation va modifier des variables d'environnement, ne pas hésiter à aller regarder le code du fichier acti"
   ]
  }
 ],
 "metadata": {
  "kernelspec": {
   "display_name": "Python 3 (ipykernel)",
   "language": "python",
   "name": "python3"
  },
  "language_info": {
   "codemirror_mode": {
    "name": "ipython",
    "version": 3
   },
   "file_extension": ".py",
   "mimetype": "text/x-python",
   "name": "python",
   "nbconvert_exporter": "python",
   "pygments_lexer": "ipython3",
   "version": "3.9.9"
  }
 },
 "nbformat": 4,
 "nbformat_minor": 5
}
