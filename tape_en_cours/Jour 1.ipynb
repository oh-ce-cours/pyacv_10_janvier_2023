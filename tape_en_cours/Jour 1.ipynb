{
 "cells": [
  {
   "cell_type": "markdown",
   "id": "180ce002",
   "metadata": {},
   "source": [
    "# Matin \n",
    "\n",
    "* présentation de python \n",
    "* parlé des environnements virtuels\n",
    "    * intéressants pour avoir plusieurs versions de bibliothèques en parallèle\n",
    "    * globalement : un environnement par projet \n",
    "* parlé des chemins de bibliothèques\n",
    "    * `import monmodule; print(monmodule.__file__)`\n",
    "    * il y a une bibliothèque standard (`batteries included`) assez complète \n",
    "    * il y a des biliothèques tierces que l'on peut installer => `site-packages`"
   ]
  },
  {
   "cell_type": "markdown",
   "id": "4640b7a7",
   "metadata": {},
   "source": [
    "# Après-midi\n",
    "\n",
    "* virtualenvs \n",
    "    * création : `python -m venv LE_NOM`\n",
    "    * activation : \n",
    "        * linux : `source LE_NOM/bin/activate`\n",
    "        * windows : `LE_NOM\\Scripts\\activate`\n",
    "        * l'activation va modifier des variables d'environnement, ne pas hésiter à aller regarder le code du fichier activate\n",
    "    * désactivation : `deactivate` ou fermer le terminal \n",
    "    * destruction : `rm LE_NOM` (on supprime le dossier)"
   ]
  },
  {
   "cell_type": "markdown",
   "id": "1db0b98e",
   "metadata": {},
   "source": [
    "## Bonnes pratiques\n",
    "\n",
    "* linters : \n",
    "    * mypy : vérification des types dans votre programme (peut passer par l'annotation de types)\n",
    "    * pylint : linter généraliste\n",
    "    * flake8 : je sais pas\n",
    "* formaters : \n",
    "    * black"
   ]
  },
  {
   "cell_type": "code",
   "execution_count": 1,
   "id": "dd7d444b",
   "metadata": {},
   "outputs": [],
   "source": [
    "# exemple d'annotation de types\n",
    "def f(n: [int]) -> float:\n",
    "    return sum(n) / 10 "
   ]
  },
  {
   "cell_type": "code",
   "execution_count": 6,
   "id": "91ef05b2",
   "metadata": {},
   "outputs": [
    {
     "name": "stdout",
     "output_type": "stream",
     "text": [
      "1\n",
      "2\n",
      "fizz\n",
      "4\n",
      "buzz\n",
      "fizz\n",
      "7\n",
      "8\n",
      "fizz\n",
      "buzz\n",
      "11\n",
      "fizz\n",
      "13\n",
      "14\n",
      "fizzbuzz\n",
      "16\n",
      "17\n",
      "fizz\n",
      "19\n",
      "buzz\n",
      "fizz\n",
      "22\n",
      "23\n",
      "fizz\n",
      "buzz\n",
      "26\n",
      "fizz\n",
      "28\n",
      "29\n",
      "fizzbuzz\n",
      "31\n",
      "32\n",
      "fizz\n",
      "34\n",
      "buzz\n",
      "fizz\n",
      "37\n",
      "38\n",
      "fizz\n",
      "buzz\n",
      "41\n",
      "fizz\n",
      "43\n",
      "44\n",
      "fizzbuzz\n",
      "46\n",
      "47\n",
      "fizz\n",
      "49\n",
      "buzz\n",
      "fizz\n",
      "52\n",
      "53\n",
      "fizz\n",
      "buzz\n",
      "56\n",
      "fizz\n",
      "58\n",
      "59\n",
      "fizzbuzz\n",
      "61\n",
      "62\n",
      "fizz\n",
      "64\n",
      "buzz\n",
      "fizz\n",
      "67\n",
      "68\n",
      "fizz\n",
      "buzz\n",
      "71\n",
      "fizz\n",
      "73\n",
      "74\n",
      "fizzbuzz\n",
      "76\n",
      "77\n",
      "fizz\n",
      "79\n",
      "buzz\n",
      "fizz\n",
      "82\n",
      "83\n",
      "fizz\n",
      "buzz\n",
      "86\n",
      "fizz\n",
      "88\n",
      "89\n",
      "fizzbuzz\n",
      "91\n",
      "92\n",
      "fizz\n",
      "94\n",
      "buzz\n",
      "fizz\n",
      "97\n",
      "98\n",
      "fizz\n",
      "buzz\n"
     ]
    }
   ],
   "source": [
    "def regle_fizz_buzz(nombre):\n",
    "    res = nombre\n",
    "    if res % 3 == 0 and res % 5 == 0:\n",
    "        res = \"fizzbuzz\"\n",
    "    elif res % 3 == 0:\n",
    "        res = \"fizz\"\n",
    "    elif res % 5 == 0:\n",
    "        res = \"buzz\"\n",
    "    \n",
    "    return res\n",
    "\n",
    "for nombre in range(1, 101):\n",
    "    print(regle_fizz_buzz(nombre))"
   ]
  },
  {
   "cell_type": "code",
   "execution_count": 11,
   "id": "c85047fc",
   "metadata": {},
   "outputs": [
    {
     "data": {
      "text/plain": [
       "(False, True, True)"
      ]
     },
     "execution_count": 11,
     "metadata": {},
     "output_type": "execute_result"
    }
   ],
   "source": [
    "bool(0), bool(12), bool(-1)"
   ]
  },
  {
   "cell_type": "code",
   "execution_count": 13,
   "id": "3a559127",
   "metadata": {},
   "outputs": [
    {
     "data": {
      "text/plain": [
       "['0', '1', '2', '3', '4', '5', '6', '7', '8', '9']"
      ]
     },
     "execution_count": 13,
     "metadata": {},
     "output_type": "execute_result"
    }
   ],
   "source": [
    "list(map(str, range(10)))"
   ]
  },
  {
   "cell_type": "code",
   "execution_count": 17,
   "id": "608e2bcc",
   "metadata": {},
   "outputs": [
    {
     "data": {
      "text/plain": [
       "'riri'"
      ]
     },
     "execution_count": 17,
     "metadata": {},
     "output_type": "execute_result"
    }
   ],
   "source": [
    "\"riri\" * 1 + \"fifi\" * 0"
   ]
  },
  {
   "cell_type": "code",
   "execution_count": 18,
   "id": "e24f7d22",
   "metadata": {},
   "outputs": [
    {
     "data": {
      "text/plain": [
       "(0, 1)"
      ]
     },
     "execution_count": 18,
     "metadata": {},
     "output_type": "execute_result"
    }
   ],
   "source": [
    "int(False), int(True)"
   ]
  },
  {
   "cell_type": "code",
   "execution_count": 26,
   "id": "809a3073",
   "metadata": {},
   "outputs": [
    {
     "data": {
      "text/plain": [
       "True"
      ]
     },
     "execution_count": 26,
     "metadata": {},
     "output_type": "execute_result"
    }
   ],
   "source": [
    "True or False"
   ]
  },
  {
   "cell_type": "code",
   "execution_count": 29,
   "id": "37a3d6f6",
   "metadata": {},
   "outputs": [
    {
     "data": {
      "text/plain": [
       "2"
      ]
     },
     "execution_count": 29,
     "metadata": {},
     "output_type": "execute_result"
    }
   ],
   "source": [
    "\"fizz\" * False + \"buzz\" * False or 2"
   ]
  },
  {
   "cell_type": "code",
   "execution_count": 31,
   "id": "e54afc3d",
   "metadata": {},
   "outputs": [
    {
     "data": {
      "text/plain": [
       "True"
      ]
     },
     "execution_count": 31,
     "metadata": {},
     "output_type": "execute_result"
    }
   ],
   "source": [
    "bool(0), bool(2)"
   ]
  },
  {
   "cell_type": "code",
   "execution_count": 32,
   "id": "628e8a2c",
   "metadata": {},
   "outputs": [],
   "source": [
    "def f(a=None):\n",
    "    a = a is None or 3\n",
    "    # est équivalent\n",
    "    if a is None:\n",
    "        a = 3"
   ]
  },
  {
   "cell_type": "code",
   "execution_count": 36,
   "id": "0215c02b",
   "metadata": {},
   "outputs": [
    {
     "name": "stdout",
     "output_type": "stream",
     "text": [
      "Fizz\n"
     ]
    }
   ],
   "source": [
    "i  = 3\n",
    "print(\"Fizz\"[i % 3 * 4:] + \"Buzz\"[i % 5 * 4:] or i)"
   ]
  },
  {
   "cell_type": "code",
   "execution_count": 37,
   "id": "9778a9d4",
   "metadata": {},
   "outputs": [
    {
     "data": {
      "text/plain": [
       "8"
      ]
     },
     "execution_count": 37,
     "metadata": {},
     "output_type": "execute_result"
    }
   ],
   "source": [
    "i = 2\n",
    "i%3*4"
   ]
  },
  {
   "cell_type": "markdown",
   "id": "9944da31",
   "metadata": {},
   "source": [
    "## Annotations de types"
   ]
  },
  {
   "cell_type": "code",
   "execution_count": 42,
   "id": "77b40a86",
   "metadata": {},
   "outputs": [],
   "source": [
    "from typing import TypeVar, List\n",
    "\n",
    "T = TypeVar(\"T\")\n",
    "\n",
    "def retourne_premier(l: List[T]) -> T:\n",
    "    return l[0]\n",
    "\n",
    "a = retourne_premier([1, 2, 3])\n",
    "b = retourne_premier([\"a\", \"b\", \"c\"])"
   ]
  },
  {
   "cell_type": "code",
   "execution_count": null,
   "id": "2ba25a1f",
   "metadata": {},
   "outputs": [],
   "source": []
  }
 ],
 "metadata": {
  "kernelspec": {
   "display_name": "Python 3 (ipykernel)",
   "language": "python",
   "name": "python3"
  },
  "language_info": {
   "codemirror_mode": {
    "name": "ipython",
    "version": 3
   },
   "file_extension": ".py",
   "mimetype": "text/x-python",
   "name": "python",
   "nbconvert_exporter": "python",
   "pygments_lexer": "ipython3",
   "version": "3.9.9"
  }
 },
 "nbformat": 4,
 "nbformat_minor": 5
}
