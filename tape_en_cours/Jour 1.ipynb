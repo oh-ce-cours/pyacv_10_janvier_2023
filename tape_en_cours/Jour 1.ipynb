{
 "cells": [
  {
   "cell_type": "markdown",
   "id": "02308560",
   "metadata": {},
   "source": [
    "# Matin \n",
    "\n",
    "* présentation de python \n",
    "* parlé des environnements virtuels\n",
    "    * intéressants pour avoir plusieurs versions de bibliothèques en parallèle\n",
    "    * globalement : un environnement par projet \n",
    "* parlé des chemins de bibliothèques\n",
    "    * `import monmodule; print(monmodule.__file__)`"
   ]
  },
  {
   "cell_type": "code",
   "execution_count": null,
   "id": "cbb02107",
   "metadata": {},
   "outputs": [],
   "source": []
  }
 ],
 "metadata": {
  "kernelspec": {
   "display_name": "Python 3 (ipykernel)",
   "language": "python",
   "name": "python3"
  },
  "language_info": {
   "codemirror_mode": {
    "name": "ipython",
    "version": 3
   },
   "file_extension": ".py",
   "mimetype": "text/x-python",
   "name": "python",
   "nbconvert_exporter": "python",
   "pygments_lexer": "ipython3",
   "version": "3.9.9"
  }
 },
 "nbformat": 4,
 "nbformat_minor": 5
}
