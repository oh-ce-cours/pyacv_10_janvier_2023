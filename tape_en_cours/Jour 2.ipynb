{
 "cells": [
  {
   "cell_type": "code",
   "execution_count": 143,
   "id": "eceac627",
   "metadata": {},
   "outputs": [],
   "source": [
    "from typing import Callable, Iterator, TypeVar, List\n",
    "\n",
    "E = TypeVar(\"E\")\n",
    "S = TypeVar(\"S\")\n",
    "\n",
    "def my_map(f: Callable[[E], S], data: Iterator[E])->List[S]:\n",
    "    pass"
   ]
  },
  {
   "cell_type": "markdown",
   "id": "6232b1e1",
   "metadata": {},
   "source": [
    "# Fonctions map et filter"
   ]
  },
  {
   "cell_type": "code",
   "execution_count": 84,
   "id": "c562d706",
   "metadata": {},
   "outputs": [],
   "source": [
    "from typing import List, Callable, Iterable, TypeVar\n",
    "\n",
    "T_in = TypeVar('T_in')\n",
    "T_out = TypeVar('T_out')\n",
    "\n",
    "def my_map(func: Callable[[T_in], T_out], iterable: Iterable[T_in]) -> List[T_out]:\n",
    "    result = []\n",
    "    for item in iterable:\n",
    "        # print(item)\n",
    "        result.append(func(item))\n",
    "    return result\n",
    "\n",
    "def my_filter(func: Callable[[T_in], bool], iterable: Iterable[T_in]) -> List[T_out]:\n",
    "    result = []\n",
    "    for item in iterable:\n",
    "        if func(item):\n",
    "            result.append(item)\n",
    "    return result"
   ]
  },
  {
   "cell_type": "code",
   "execution_count": 37,
   "id": "094810b3",
   "metadata": {},
   "outputs": [
    {
     "name": "stdout",
     "output_type": "stream",
     "text": [
      "1\n",
      "2\n",
      "3\n"
     ]
    },
    {
     "data": {
      "text/plain": [
       "[1, 4, 9]"
      ]
     },
     "execution_count": 37,
     "metadata": {},
     "output_type": "execute_result"
    }
   ],
   "source": [
    "my_map(lambda x: x**2, [1, 2, 3])"
   ]
  },
  {
   "cell_type": "markdown",
   "id": "254f4956",
   "metadata": {},
   "source": [
    "### A voir : \n",
    "* comment faire des itérateurs / itérable (objet paraisseux)\n",
    "    * yield\n",
    "    * class \n",
    "    * https://stackoverflow.com/questions/9884132/what-are-iterator-iterable-and-iteration\n",
    "    * https://stackoverflow.com/questions/27139004/special-use-for-iter-and-next \n",
    "* programmation fonctionnelle \n",
    "    * fonctions \n",
    "    * closures \n",
    "    * fonctions \n",
    "* types de donénes et complexité"
   ]
  },
  {
   "cell_type": "markdown",
   "id": "32a5d7b6",
   "metadata": {},
   "source": [
    "# Itérateur / itérable "
   ]
  },
  {
   "cell_type": "code",
   "execution_count": 11,
   "id": "84067174",
   "metadata": {},
   "outputs": [
    {
     "name": "stdout",
     "output_type": "stream",
     "text": [
      "0\n",
      "1\n",
      "2\n"
     ]
    },
    {
     "ename": "StopIteration",
     "evalue": "",
     "output_type": "error",
     "traceback": [
      "\u001b[0;31m---------------------------------------------------------------------------\u001b[0m",
      "\u001b[0;31mStopIteration\u001b[0m                             Traceback (most recent call last)",
      "Cell \u001b[0;32mIn[11], line 5\u001b[0m\n\u001b[1;32m      3\u001b[0m \u001b[38;5;28mprint\u001b[39m(\u001b[38;5;28mnext\u001b[39m(a))\n\u001b[1;32m      4\u001b[0m \u001b[38;5;28mprint\u001b[39m(\u001b[38;5;28mnext\u001b[39m(a))\n\u001b[0;32m----> 5\u001b[0m \u001b[38;5;28mprint\u001b[39m(\u001b[38;5;28;43mnext\u001b[39;49m\u001b[43m(\u001b[49m\u001b[43ma\u001b[49m\u001b[43m)\u001b[49m)\n",
      "\u001b[0;31mStopIteration\u001b[0m: "
     ]
    }
   ],
   "source": [
    "a = iter(range(3))\n",
    "print(next(a))\n",
    "print(next(a))\n",
    "print(next(a))\n",
    "print(next(a))"
   ]
  },
  {
   "cell_type": "markdown",
   "id": "20a9884f",
   "metadata": {},
   "source": [
    "Comment est codée `for` en python (plus ou moins, on ne retourne pas le résultat)\n",
    "\n",
    "```python\n",
    "\n",
    "while True:\n",
    "    try:\n",
    "        return next(a)\n",
    "    except StopIteration:\n",
    "        break \n",
    "```"
   ]
  },
  {
   "cell_type": "code",
   "execution_count": 12,
   "id": "70c05b71",
   "metadata": {},
   "outputs": [
    {
     "name": "stdout",
     "output_type": "stream",
     "text": [
      "1\n",
      "2\n",
      "3\n"
     ]
    },
    {
     "ename": "StopIteration",
     "evalue": "",
     "output_type": "error",
     "traceback": [
      "\u001b[0;31m---------------------------------------------------------------------------\u001b[0m",
      "\u001b[0;31mStopIteration\u001b[0m                             Traceback (most recent call last)",
      "Cell \u001b[0;32mIn[12], line 5\u001b[0m\n\u001b[1;32m      3\u001b[0m \u001b[38;5;28mprint\u001b[39m(\u001b[38;5;28mnext\u001b[39m(a))\n\u001b[1;32m      4\u001b[0m \u001b[38;5;28mprint\u001b[39m(\u001b[38;5;28mnext\u001b[39m(a))\n\u001b[0;32m----> 5\u001b[0m \u001b[38;5;28mprint\u001b[39m(\u001b[38;5;28;43mnext\u001b[39;49m\u001b[43m(\u001b[49m\u001b[43ma\u001b[49m\u001b[43m)\u001b[49m)\n",
      "\u001b[0;31mStopIteration\u001b[0m: "
     ]
    }
   ],
   "source": [
    "a = iter([1, 2, 3])\n",
    "print(next(a))\n",
    "print(next(a))\n",
    "print(next(a))\n",
    "print(next(a))"
   ]
  },
  {
   "cell_type": "code",
   "execution_count": 26,
   "id": "70ce8d7c",
   "metadata": {},
   "outputs": [
    {
     "name": "stdout",
     "output_type": "stream",
     "text": [
      "<function first_lazy at 0x7fe19824aaf0> <class 'function'>\n",
      "<generator object first_lazy at 0x7fe198ba3120> <class 'generator'>\n"
     ]
    }
   ],
   "source": [
    "def first_lazy():\n",
    "    print(\"avant riri\")\n",
    "    yield \"riri\"\n",
    "    print(\"apres riri\")\n",
    "    print(\"avant fifi\")\n",
    "    yield \"fifi\"\n",
    "    print(\"apre fifi\")\n",
    "    print(\"avant loulou\")\n",
    "    yield \"loulou\"\n",
    "    print(\"apres loulou\")\n",
    "\n",
    "    \n",
    "print(first_lazy, type(first_lazy))\n",
    "a = first_lazy()\n",
    "print(a, type(a))"
   ]
  },
  {
   "cell_type": "code",
   "execution_count": 27,
   "id": "6ffca501",
   "metadata": {},
   "outputs": [
    {
     "name": "stdout",
     "output_type": "stream",
     "text": [
      "avant riri\n"
     ]
    },
    {
     "data": {
      "text/plain": [
       "'riri'"
      ]
     },
     "execution_count": 27,
     "metadata": {},
     "output_type": "execute_result"
    }
   ],
   "source": [
    "next(a)"
   ]
  },
  {
   "cell_type": "code",
   "execution_count": 28,
   "id": "e766f315",
   "metadata": {},
   "outputs": [
    {
     "name": "stdout",
     "output_type": "stream",
     "text": [
      "apres riri\n",
      "avant fifi\n"
     ]
    },
    {
     "data": {
      "text/plain": [
       "'fifi'"
      ]
     },
     "execution_count": 28,
     "metadata": {},
     "output_type": "execute_result"
    }
   ],
   "source": [
    "next(a)"
   ]
  },
  {
   "cell_type": "code",
   "execution_count": 29,
   "id": "7298f1b8",
   "metadata": {},
   "outputs": [
    {
     "name": "stdout",
     "output_type": "stream",
     "text": [
      "apre fifi\n",
      "avant loulou\n"
     ]
    },
    {
     "data": {
      "text/plain": [
       "'loulou'"
      ]
     },
     "execution_count": 29,
     "metadata": {},
     "output_type": "execute_result"
    }
   ],
   "source": [
    "next(a)"
   ]
  },
  {
   "cell_type": "code",
   "execution_count": 30,
   "id": "7b09f3c0",
   "metadata": {},
   "outputs": [
    {
     "name": "stdout",
     "output_type": "stream",
     "text": [
      "apres loulou\n"
     ]
    },
    {
     "ename": "StopIteration",
     "evalue": "",
     "output_type": "error",
     "traceback": [
      "\u001b[0;31m---------------------------------------------------------------------------\u001b[0m",
      "\u001b[0;31mStopIteration\u001b[0m                             Traceback (most recent call last)",
      "Cell \u001b[0;32mIn[30], line 1\u001b[0m\n\u001b[0;32m----> 1\u001b[0m \u001b[38;5;28;43mnext\u001b[39;49m\u001b[43m(\u001b[49m\u001b[43ma\u001b[49m\u001b[43m)\u001b[49m\n",
      "\u001b[0;31mStopIteration\u001b[0m: "
     ]
    }
   ],
   "source": [
    "next(a)"
   ]
  },
  {
   "cell_type": "code",
   "execution_count": 85,
   "id": "9dd4dc3d",
   "metadata": {},
   "outputs": [],
   "source": [
    "def my_lazy_map(func: Callable[[E], S], iterable: Iterator[E]) -> Iterator[S]:\n",
    "    for item in iterable:\n",
    "        #print(item)\n",
    "        yield func(item)\n",
    "\n",
    "\n",
    "def my_filter(func: Callable[[E], bool], iterable: Iterator[E]) -> Iterator[E]:\n",
    "    for item in iterable:\n",
    "        if func(item):\n",
    "            yield item\n"
   ]
  },
  {
   "cell_type": "code",
   "execution_count": 86,
   "id": "073a67f4",
   "metadata": {},
   "outputs": [
    {
     "name": "stdout",
     "output_type": "stream",
     "text": [
      "yielded 1\n",
      "yielded 4\n",
      "yielded 9\n",
      "##########\n",
      "returned 1\n",
      "returned 4\n",
      "returned 9\n"
     ]
    }
   ],
   "source": [
    "# yield va changer \"l'ordre des appels\" dans la fonction \n",
    "\n",
    "for elem in my_lazy_map(lambda x: x**2, [1, 2, 3]):\n",
    "    print(f\"yielded {elem}\")\n",
    "print(\"##########\")\n",
    "for elem in my_map(lambda x: x**2, [1, 2, 3]):\n",
    "    print(f\"returned {elem}\")"
   ]
  },
  {
   "cell_type": "code",
   "execution_count": 34,
   "id": "b2a0fdd6",
   "metadata": {},
   "outputs": [
    {
     "name": "stdout",
     "output_type": "stream",
     "text": [
      "riri\n",
      "riri\n"
     ]
    }
   ],
   "source": [
    "elements = [\"riri\", \"fifi\", \"loulou\"]\n",
    "for element in elements:\n",
    "    print(element)\n",
    "    break\n",
    "for element in elements:\n",
    "    print(element)\n",
    "    break"
   ]
  },
  {
   "cell_type": "code",
   "execution_count": 35,
   "id": "db3f43cd",
   "metadata": {},
   "outputs": [
    {
     "name": "stdout",
     "output_type": "stream",
     "text": [
      "avant riri\n",
      "riri\n",
      "apres riri\n",
      "avant fifi\n",
      "fifi\n"
     ]
    }
   ],
   "source": [
    "elements = first_lazy()\n",
    "for element in elements:\n",
    "    print(element)\n",
    "    break\n",
    "for element in elements:\n",
    "    print(element)\n",
    "    break"
   ]
  },
  {
   "cell_type": "code",
   "execution_count": 48,
   "id": "183e79dc",
   "metadata": {},
   "outputs": [
    {
     "name": "stdout",
     "output_type": "stream",
     "text": [
      "285\n"
     ]
    }
   ],
   "source": [
    "lc = sum([i**2 for i in range(10)])\n",
    "print(lc)"
   ]
  },
  {
   "cell_type": "code",
   "execution_count": 52,
   "id": "7bf36b85",
   "metadata": {},
   "outputs": [
    {
     "name": "stdout",
     "output_type": "stream",
     "text": [
      "<generator object <genexpr> at 0x7fe198924660>\n"
     ]
    }
   ],
   "source": [
    "lc = (i**2 for i in range(10))\n",
    "print(lc)"
   ]
  },
  {
   "cell_type": "code",
   "execution_count": 56,
   "id": "e11997b3",
   "metadata": {},
   "outputs": [
    {
     "name": "stdout",
     "output_type": "stream",
     "text": [
      "<__main__.MyIter object at 0x7fe198b40130>\n",
      "riri\n"
     ]
    }
   ],
   "source": [
    "class MyIter():\n",
    "    def __iter__(self):\n",
    "        yield \"riri\"\n",
    "        \n",
    "m = MyIter()\n",
    "print(m)\n",
    "for elem in m:\n",
    "    print(elem)"
   ]
  },
  {
   "cell_type": "code",
   "execution_count": 61,
   "id": "06ee865f",
   "metadata": {},
   "outputs": [
    {
     "name": "stdout",
     "output_type": "stream",
     "text": [
      "1\n",
      "2\n",
      "3\n",
      "4\n"
     ]
    }
   ],
   "source": [
    "class Book:\n",
    "    def __init__(self):\n",
    "        self.pages = [1, 2, 3, 4]\n",
    "    \n",
    "    def __iter__(self):\n",
    "        #return iter(self.pages)\n",
    "        yield from self.pages\n",
    "        \n",
    "livre = Book()\n",
    "for page in livre:\n",
    "    print(page)"
   ]
  },
  {
   "cell_type": "code",
   "execution_count": 130,
   "id": "59b3b42e",
   "metadata": {},
   "outputs": [
    {
     "name": "stdout",
     "output_type": "stream",
     "text": [
      "dans iter\n",
      "0\n",
      "1\n",
      "4\n",
      "9\n",
      "16\n",
      "dans iter\n",
      "1\n",
      "3\n",
      "5\n"
     ]
    }
   ],
   "source": [
    "class MyMap:\n",
    "    def __init__(self, f, iterable):\n",
    "        self.f = f\n",
    "        self.iterable = iter(iterable)\n",
    "    \n",
    "    def __iter__(self):\n",
    "        # for elem in self.iterable:\n",
    "        #     yield self.f(elem)\n",
    "        \n",
    "        print(\"dans iter\")\n",
    "        return self\n",
    "    \n",
    "    def __next__(self):\n",
    "        elem = next(self.iterable)\n",
    "        return self.f(elem)\n",
    "\n",
    "        \n",
    "for elem in MyMap(lambda x: x**2, range(5)):\n",
    "    print(elem)\n",
    "    \n",
    "    \n",
    "class MyFilter:\n",
    "    def __init__(self, f, iterable):\n",
    "        self.f = f\n",
    "        self.iterable = iter(iterable)\n",
    "    \n",
    "    def __iter__(self):\n",
    "        # for elem in self.iterable:\n",
    "        #     yield self.f(elem)\n",
    "        \n",
    "        print(\"dans iter\")\n",
    "        return self\n",
    "    \n",
    "    def __next__(self):\n",
    "        elem = next(self.iterable)\n",
    "        while not self.f(elem):\n",
    "            elem = next(self.iterable)\n",
    "        return elem\n",
    "\n",
    "        \n",
    "for elem in MyFilter(lambda x: x%2 == 1, [1, 3, 5]):\n",
    "    print(elem)"
   ]
  },
  {
   "cell_type": "code",
   "execution_count": 90,
   "id": "458d2748",
   "metadata": {},
   "outputs": [
    {
     "name": "stdout",
     "output_type": "stream",
     "text": [
      "72.3 µs ± 4.55 µs per loop (mean ± std. dev. of 7 runs, 10,000 loops each)\n"
     ]
    }
   ],
   "source": [
    "%timeit list(my_map(lambda x: x**2, range(100)))"
   ]
  },
  {
   "cell_type": "code",
   "execution_count": 91,
   "id": "badf1a9d",
   "metadata": {},
   "outputs": [
    {
     "name": "stdout",
     "output_type": "stream",
     "text": [
      "82.6 µs ± 7.17 µs per loop (mean ± std. dev. of 7 runs, 10,000 loops each)\n"
     ]
    }
   ],
   "source": [
    "%timeit list(my_lazy_map(lambda x: x**2, range(100)))"
   ]
  },
  {
   "cell_type": "markdown",
   "id": "e2b81f9f",
   "metadata": {},
   "source": [
    "# Fonctions / FP (functionnal programming)  "
   ]
  },
  {
   "cell_type": "code",
   "execution_count": 92,
   "id": "9ba9c50c",
   "metadata": {},
   "outputs": [
    {
     "data": {
      "text/plain": [
       "5"
      ]
     },
     "execution_count": 92,
     "metadata": {},
     "output_type": "execute_result"
    }
   ],
   "source": [
    "def addition(x, y):\n",
    "    return x + y\n",
    "\n",
    "addition(2, 3)"
   ]
  },
  {
   "cell_type": "code",
   "execution_count": 98,
   "id": "53824fe8",
   "metadata": {},
   "outputs": [
    {
     "data": {
      "text/plain": [
       "5"
      ]
     },
     "execution_count": 98,
     "metadata": {},
     "output_type": "execute_result"
    }
   ],
   "source": [
    "toto = addition\n",
    "toto(2, 3)"
   ]
  },
  {
   "cell_type": "code",
   "execution_count": 99,
   "id": "2a7f55f5",
   "metadata": {},
   "outputs": [
    {
     "name": "stdout",
     "output_type": "stream",
     "text": [
      "<function addition at 0x7fe1981b6940> <function addition at 0x7fe1981b6940>\n"
     ]
    }
   ],
   "source": [
    "print(toto, addition)"
   ]
  },
  {
   "cell_type": "code",
   "execution_count": 108,
   "id": "8f068050",
   "metadata": {},
   "outputs": [
    {
     "name": "stdout",
     "output_type": "stream",
     "text": [
      "1 2 3\n",
      "1 2 3\n"
     ]
    }
   ],
   "source": [
    "d = {\n",
    "    \"a\": 1, \"b\": 2, \"c\": 3\n",
    "}\n",
    "\n",
    "def f(a, b, c):\n",
    "    print(a, b, c)\n",
    "    \n",
    "def g(*args, **kwargs):\n",
    "    print(args, kwargs)\n",
    "\n",
    "f(d[\"a\"], d[\"b\"], d[\"c\"])\n",
    "f(**d)"
   ]
  },
  {
   "cell_type": "code",
   "execution_count": 123,
   "id": "1792829f",
   "metadata": {},
   "outputs": [
    {
     "name": "stdout",
     "output_type": "stream",
     "text": [
      "avant append\n",
      "dans liste vide\n",
      "<function append at 0x7fe1985518b0>\n",
      "apres append\n",
      "dans append\n",
      "dans liste vide\n",
      "[1]\n",
      "dans append\n",
      "dans liste vide\n",
      "[1]\n"
     ]
    }
   ],
   "source": [
    "def liste_vide():\n",
    "    print(\"dans liste vide\")\n",
    "    return []\n",
    "\n",
    "print(\"avant append\")\n",
    "def append_wrong(a=liste_vide()):\n",
    "    print(\"dans append\")\n",
    "    a.append(1)\n",
    "    return a \n",
    "\n",
    "def append(a=None):\n",
    "    print(\"dans append\")\n",
    "    if a is None:\n",
    "        a = liste_vide()\n",
    "    # a = a is not None or liste_vide()\n",
    "    a.append(1)\n",
    "    return a \n",
    "\n",
    "\n",
    "print(append)\n",
    "print(\"apres append\")\n",
    "print(append())\n",
    "print(append())"
   ]
  },
  {
   "cell_type": "code",
   "execution_count": null,
   "id": "74c55141",
   "metadata": {},
   "outputs": [],
   "source": []
  },
  {
   "cell_type": "markdown",
   "id": "b009da03",
   "metadata": {},
   "source": [
    "# Ancrage mémoriel\n",
    "\n",
    "* fonctions d'ordre supérieur (fonction qui manipule d'autres fonctions comme argument ou résultat)\n",
    "    * `map`\n",
    "    * `filter`\n",
    "    * `reduce` \n",
    "    * les fonctions sont des variables comme les autres => les fonctions sont `first class citizens`\n",
    "* types paramétrés (`TypeVar`) : permet de définir un type générique qui peut être réutilisé (typiquement pour une liste d'élément, on retourne un élément => List[T] -> T)\n",
    "* itérateurs\n",
    "    * plusieurs façons d'en faire : \n",
    "        * avec `yield` \n",
    "        * avec un `generator expression` : `(x**2 for x in range(10))`\n",
    "        * avec une classe qui surcharge\n",
    "            * `__iter__` : iterable\n",
    "            * `__next__` : (`__iter__` va retourner `self`) iterator\n",
    "* ne pas avoir de paramètres mutables dans les fonctions (dans 99% des cas)\n",
    "    * parce que les paramètres ne sont calculé qu'une fois : à la création de la fonction\n",
    "    * si on veut des paramètres nouveaux / indépendants entre chaque appel, on les défini à l'intérieur du corps de la fonction "
   ]
  },
  {
   "cell_type": "markdown",
   "id": "180a0cdb",
   "metadata": {},
   "source": [
    "## Application partielle \n",
    "\n",
    "* avec `functools.partial`\n",
    "* avec `lambda`"
   ]
  },
  {
   "cell_type": "code",
   "execution_count": 134,
   "id": "f5d3bf22",
   "metadata": {},
   "outputs": [
    {
     "name": "stdout",
     "output_type": "stream",
     "text": [
      "[10, 11, 12, 13, 14] [10, 11, 12, 13, 14]\n"
     ]
    }
   ],
   "source": [
    "def additionne(x, y):\n",
    "    return x + y \n",
    "\n",
    "from functools import partial\n",
    "\n",
    "a = list(map(partial(additionne, 10), range(5)))\n",
    "b = list(map(lambda x: additionne(x, 10), range(5)))\n",
    "print(a, b)"
   ]
  },
  {
   "cell_type": "markdown",
   "id": "cbedc619",
   "metadata": {},
   "source": [
    "## Règle d'accès aux espaces de noms / variables des fonctions \n",
    "\n",
    "LEGB\n",
    "* local\n",
    "* englobing \n",
    "* global \n",
    "* builtin "
   ]
  },
  {
   "cell_type": "code",
   "execution_count": 145,
   "id": "a895a710",
   "metadata": {},
   "outputs": [
    {
     "name": "stdout",
     "output_type": "stream",
     "text": [
      "1\n",
      "1\n"
     ]
    }
   ],
   "source": [
    "variable = 1\n",
    "\n",
    "def modifie_variable():\n",
    "    global variable\n",
    "    variable = variable + 1\n",
    "\n",
    "print(variable)\n",
    "modifie_variable()\n",
    "print(variable)"
   ]
  },
  {
   "cell_type": "code",
   "execution_count": 149,
   "id": "aa456409",
   "metadata": {},
   "outputs": [
    {
     "name": "stdout",
     "output_type": "stream",
     "text": [
      "3\n"
     ]
    }
   ],
   "source": [
    "def toto():\n",
    "    print(zdertyuyiulkjh)\n",
    "    \n",
    "zdertyuyiulkjh = 3\n",
    "toto()"
   ]
  },
  {
   "cell_type": "code",
   "execution_count": 151,
   "id": "0cd77c4f",
   "metadata": {},
   "outputs": [
    {
     "name": "stdout",
     "output_type": "stream",
     "text": [
      "dans a\n",
      "b\n"
     ]
    }
   ],
   "source": [
    "def b():\n",
    "    print(\"b\")\n",
    "\n",
    "\n",
    "def a():\n",
    "    print(\"dans a\")\n",
    "    b()\n",
    "\n",
    "    \n",
    "\n",
    "a()"
   ]
  },
  {
   "cell_type": "code",
   "execution_count": 156,
   "id": "11c3b01a",
   "metadata": {},
   "outputs": [
    {
     "name": "stdout",
     "output_type": "stream",
     "text": [
      "5\n",
      "6\n",
      "7\n",
      "8\n",
      "9\n",
      "10\n",
      "11\n",
      "12\n",
      "13\n",
      "14\n"
     ]
    }
   ],
   "source": [
    "fs = []\n",
    "for i in range(10):\n",
    "    fs.append(lambda x, i=i: x+i)\n",
    "\n",
    "for f in fs:\n",
    "    print(f(5))"
   ]
  },
  {
   "cell_type": "code",
   "execution_count": 153,
   "id": "0845bc40",
   "metadata": {},
   "outputs": [
    {
     "name": "stdout",
     "output_type": "stream",
     "text": [
      "9\n"
     ]
    }
   ],
   "source": [
    "print(i)"
   ]
  },
  {
   "cell_type": "code",
   "execution_count": 162,
   "id": "615ee1bd",
   "metadata": {},
   "outputs": [],
   "source": [
    "def parler():\n",
    "    # On peut définir une fonction à la volée dans ”parler” ...\n",
    "    def chuchoter(mot=\"yes\"):\n",
    "        return mot.lower() + \"...\"\n",
    "    print(chuchoter)\n",
    "    print(chuchoter(\"toto\"))"
   ]
  },
  {
   "cell_type": "code",
   "execution_count": 165,
   "id": "d8e89a8b",
   "metadata": {},
   "outputs": [
    {
     "name": "stdout",
     "output_type": "stream",
     "text": [
      "<function parler.<locals>.chuchoter at 0x7fe198257e50>\n",
      "toto...\n"
     ]
    }
   ],
   "source": [
    "parler()"
   ]
  },
  {
   "cell_type": "code",
   "execution_count": 172,
   "id": "c9029a4a",
   "metadata": {},
   "outputs": [],
   "source": [
    "def ajouter_avec(a, b):\n",
    "    return a + b \n",
    "\n",
    "def ajoute_avec(a):\n",
    "    def ajoute_2(b):\n",
    "        def ajoute_3(c):\n",
    "            return a + b + c\n",
    "        return ajoute_3\n",
    "    return ajoute_2"
   ]
  },
  {
   "cell_type": "code",
   "execution_count": 175,
   "id": "ed405d1c",
   "metadata": {},
   "outputs": [
    {
     "data": {
      "text/plain": [
       "<function __main__.ajoute_avec.<locals>.ajoute_2.<locals>.ajoute_3(c)>"
      ]
     },
     "execution_count": 175,
     "metadata": {},
     "output_type": "execute_result"
    }
   ],
   "source": [
    "ajoute_avec_4 = ajoute_avec(4)\n",
    "ajoute_avec_9 = ajoute_avec_4(5)\n",
    "ajoute_avec_9"
   ]
  },
  {
   "cell_type": "markdown",
   "id": "525ecf93",
   "metadata": {},
   "source": [
    "## Décorateurs\n",
    "\n",
    "```python\n",
    "@mon_deco\n",
    "def toto():\n",
    "    pass \n",
    "\n",
    "####### équivalent #######\n",
    "\n",
    "def toto():\n",
    "    pass\n",
    "\n",
    "toto = mon_deco(toto)\n",
    "```"
   ]
  },
  {
   "cell_type": "code",
   "execution_count": 182,
   "id": "a483c35b",
   "metadata": {},
   "outputs": [
    {
     "name": "stdout",
     "output_type": "stream",
     "text": [
      "dans mon déco\n",
      "<function mon_deco.<locals>.wrapper at 0x7fe1981b6b80>\n",
      "avant f\n",
      "dans toto\n",
      "apres f\n"
     ]
    }
   ],
   "source": [
    "def mon_deco(f):\n",
    "    print(\"dans mon déco\")\n",
    "    def wrapper():\n",
    "        print(\"avant f\")\n",
    "        res = f()\n",
    "        print(\"apres f\")\n",
    "        return res\n",
    "    return wrapper\n",
    "\n",
    "@mon_deco\n",
    "def toto():\n",
    "    print(\"dans toto\")\n",
    "\n",
    "print(toto)\n",
    "toto()"
   ]
  },
  {
   "cell_type": "code",
   "execution_count": 187,
   "id": "1b738355",
   "metadata": {},
   "outputs": [
    {
     "name": "stdout",
     "output_type": "stream",
     "text": [
      "1.0007109642028809\n"
     ]
    }
   ],
   "source": [
    "import time \n",
    "\n",
    "tic = time.time()\n",
    "time.sleep(1)\n",
    "tac = time.time()\n",
    "print(tac - tic)"
   ]
  },
  {
   "cell_type": "code",
   "execution_count": 188,
   "id": "07db77d2",
   "metadata": {},
   "outputs": [
    {
     "ename": "TypeError",
     "evalue": "'NoneType' object is not callable",
     "output_type": "error",
     "traceback": [
      "\u001b[0;31m---------------------------------------------------------------------------\u001b[0m",
      "\u001b[0;31mTypeError\u001b[0m                                 Traceback (most recent call last)",
      "Cell \u001b[0;32mIn[188], line 6\u001b[0m\n\u001b[1;32m      1\u001b[0m \u001b[38;5;28;01mdef\u001b[39;00m \u001b[38;5;21mingredient\u001b[39m(nom):\n\u001b[1;32m      2\u001b[0m     \u001b[38;5;28;01mpass\u001b[39;00m \n\u001b[1;32m      4\u001b[0m \u001b[38;5;129;43m@ingredient\u001b[39;49m\u001b[43m(\u001b[49m\u001b[38;5;124;43m\"\u001b[39;49m\u001b[38;5;124;43mpain\u001b[39;49m\u001b[38;5;124;43m\"\u001b[39;49m\u001b[43m)\u001b[49m\n\u001b[1;32m      5\u001b[0m \u001b[38;5;129;43m@ingredient\u001b[39;49m\u001b[43m(\u001b[49m\u001b[38;5;124;43m\"\u001b[39;49m\u001b[38;5;124;43msalade\u001b[39;49m\u001b[38;5;124;43m\"\u001b[39;49m\u001b[43m)\u001b[49m\n\u001b[0;32m----> 6\u001b[0m \u001b[38;5;28;43;01mdef\u001b[39;49;00m\u001b[43m \u001b[49m\u001b[38;5;21;43msandwich\u001b[39;49m\u001b[43m(\u001b[49m\u001b[43mviande\u001b[49m\u001b[43m)\u001b[49m\u001b[43m:\u001b[49m\n\u001b[1;32m      7\u001b[0m \u001b[43m    \u001b[49m\u001b[38;5;28;43mprint\u001b[39;49m\u001b[43m(\u001b[49m\u001b[43mviande\u001b[49m\u001b[43m)\u001b[49m\n\u001b[1;32m      9\u001b[0m sandwich \u001b[38;5;241m=\u001b[39m pain(salade(fromage(tomate(sandwich))))\n",
      "\u001b[0;31mTypeError\u001b[0m: 'NoneType' object is not callable"
     ]
    }
   ],
   "source": [
    "def ingredient(nom):\n",
    "    pass \n",
    "    \n",
    "@ingredient(\"pain\")\n",
    "@ingredient(\"salade\")\n",
    "def sandwich(viande):\n",
    "    print(viande)\n",
    "\n",
    "sandwich = pain(salade(fromage(tomate(sandwich))))"
   ]
  },
  {
   "cell_type": "code",
   "execution_count": null,
   "id": "32b0e065",
   "metadata": {},
   "outputs": [],
   "source": [
    "def deco_param(texte):\n",
    "    pass \n",
    "\n",
    "def salade(f):\n",
    "    def wrapper(*args, **kwar)\n",
    "\n",
    "@deco_param(\"bonjour\")\n",
    "def toto():\n",
    "    print(\"salut\")\n",
    "    \n",
    "\n",
    "le_vrai_deco = deco_param(\"bonjour\")\n",
    "toto = le_vrai_deco(toto)"
   ]
  }
 ],
 "metadata": {
  "kernelspec": {
   "display_name": "Python 3 (ipykernel)",
   "language": "python",
   "name": "python3"
  },
  "language_info": {
   "codemirror_mode": {
    "name": "ipython",
    "version": 3
   },
   "file_extension": ".py",
   "mimetype": "text/x-python",
   "name": "python",
   "nbconvert_exporter": "python",
   "pygments_lexer": "ipython3",
   "version": "3.9.9"
  }
 },
 "nbformat": 4,
 "nbformat_minor": 5
}
