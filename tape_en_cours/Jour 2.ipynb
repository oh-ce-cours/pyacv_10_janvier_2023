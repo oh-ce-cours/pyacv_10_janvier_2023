{
 "cells": [
  {
   "cell_type": "code",
   "execution_count": 3,
   "id": "ca41cfe7",
   "metadata": {},
   "outputs": [],
   "source": [
    "from typing import Callable, Iterator, TypeVar, List\n",
    "\n",
    "E = TypeVar(\"E\")\n",
    "S = TypeVar(\"S\")\n",
    "\n",
    "def my_map(f: Callable[[E], S], data: Iterator[E])->List[S]:\n",
    "    pass"
   ]
  },
  {
   "cell_type": "markdown",
   "id": "f52bcb5e",
   "metadata": {},
   "source": [
    "# Fonctions map et filter"
   ]
  },
  {
   "cell_type": "code",
   "execution_count": 7,
   "id": "caca92df",
   "metadata": {},
   "outputs": [],
   "source": [
    "from typing import List, Callable, Iterable, TypeVar\n",
    "\n",
    "T_in = TypeVar('T_in')\n",
    "T_out = TypeVar('T_out')\n",
    "\n",
    "def my_map(func: Callable[[T_in], T_out], iterable: Iterable[T_in]) -> List[T_out]:\n",
    "    result = []\n",
    "    for item in iterable:\n",
    "        result.append(func(item))\n",
    "    return result\n",
    "\n",
    "def my_filter(func: Callable[[T_in], bool], iterable: Iterable[T_in]) -> List[T_out]:\n",
    "    result = []\n",
    "    for item in iterable:\n",
    "        if func(item):\n",
    "            result.append(item)\n",
    "    return result"
   ]
  },
  {
   "cell_type": "markdown",
   "id": "5525c357",
   "metadata": {},
   "source": [
    "### A voir : \n",
    "* comment faire des itérateurs / itérable (objet paraisseux)\n",
    "    * yield\n",
    "    * class \n",
    "* programmation fonctionnelle \n",
    "    * fonctions \n",
    "    * closures \n",
    "    * fonctions \n",
    "* types de donénes et complexité"
   ]
  },
  {
   "cell_type": "markdown",
   "id": "5883c83a",
   "metadata": {},
   "source": [
    "# Itérateur / itérable "
   ]
  },
  {
   "cell_type": "code",
   "execution_count": 11,
   "id": "8b784d64",
   "metadata": {},
   "outputs": [
    {
     "name": "stdout",
     "output_type": "stream",
     "text": [
      "0\n",
      "1\n",
      "2\n"
     ]
    },
    {
     "ename": "StopIteration",
     "evalue": "",
     "output_type": "error",
     "traceback": [
      "\u001b[0;31m---------------------------------------------------------------------------\u001b[0m",
      "\u001b[0;31mStopIteration\u001b[0m                             Traceback (most recent call last)",
      "Cell \u001b[0;32mIn[11], line 5\u001b[0m\n\u001b[1;32m      3\u001b[0m \u001b[38;5;28mprint\u001b[39m(\u001b[38;5;28mnext\u001b[39m(a))\n\u001b[1;32m      4\u001b[0m \u001b[38;5;28mprint\u001b[39m(\u001b[38;5;28mnext\u001b[39m(a))\n\u001b[0;32m----> 5\u001b[0m \u001b[38;5;28mprint\u001b[39m(\u001b[38;5;28;43mnext\u001b[39;49m\u001b[43m(\u001b[49m\u001b[43ma\u001b[49m\u001b[43m)\u001b[49m)\n",
      "\u001b[0;31mStopIteration\u001b[0m: "
     ]
    }
   ],
   "source": [
    "a = iter(range(3))\n",
    "print(next(a))\n",
    "print(next(a))\n",
    "print(next(a))\n",
    "print(next(a))"
   ]
  },
  {
   "cell_type": "markdown",
   "id": "b706dd1e",
   "metadata": {},
   "source": [
    "Comment est codée `for` en python (plus ou moins, on ne retourne pas le résultat)\n",
    "\n",
    "```python\n",
    "\n",
    "while True:\n",
    "    try:\n",
    "        return next(a)\n",
    "    except StopIteration:\n",
    "        break \n",
    "```"
   ]
  },
  {
   "cell_type": "code",
   "execution_count": 12,
   "id": "7566dd2f",
   "metadata": {},
   "outputs": [
    {
     "name": "stdout",
     "output_type": "stream",
     "text": [
      "1\n",
      "2\n",
      "3\n"
     ]
    },
    {
     "ename": "StopIteration",
     "evalue": "",
     "output_type": "error",
     "traceback": [
      "\u001b[0;31m---------------------------------------------------------------------------\u001b[0m",
      "\u001b[0;31mStopIteration\u001b[0m                             Traceback (most recent call last)",
      "Cell \u001b[0;32mIn[12], line 5\u001b[0m\n\u001b[1;32m      3\u001b[0m \u001b[38;5;28mprint\u001b[39m(\u001b[38;5;28mnext\u001b[39m(a))\n\u001b[1;32m      4\u001b[0m \u001b[38;5;28mprint\u001b[39m(\u001b[38;5;28mnext\u001b[39m(a))\n\u001b[0;32m----> 5\u001b[0m \u001b[38;5;28mprint\u001b[39m(\u001b[38;5;28;43mnext\u001b[39;49m\u001b[43m(\u001b[49m\u001b[43ma\u001b[49m\u001b[43m)\u001b[49m)\n",
      "\u001b[0;31mStopIteration\u001b[0m: "
     ]
    }
   ],
   "source": [
    "a = iter([1, 2, 3])\n",
    "print(next(a))\n",
    "print(next(a))\n",
    "print(next(a))\n",
    "print(next(a))"
   ]
  },
  {
   "cell_type": "code",
   "execution_count": 26,
   "id": "1671712c",
   "metadata": {},
   "outputs": [
    {
     "name": "stdout",
     "output_type": "stream",
     "text": [
      "<function first_lazy at 0x7fe19824aaf0> <class 'function'>\n",
      "<generator object first_lazy at 0x7fe198ba3120> <class 'generator'>\n"
     ]
    }
   ],
   "source": [
    "def first_lazy():\n",
    "    print(\"avant riri\")\n",
    "    yield \"riri\"\n",
    "    print(\"apres riri\")\n",
    "    print(\"avant fifi\")\n",
    "    yield \"fifi\"\n",
    "    print(\"apre fifi\")\n",
    "    print(\"avant loulou\")\n",
    "    yield \"loulou\"\n",
    "    print(\"apres loulou\")\n",
    "\n",
    "    \n",
    "print(first_lazy, type(first_lazy))\n",
    "a = first_lazy()\n",
    "print(a, type(a))"
   ]
  },
  {
   "cell_type": "code",
   "execution_count": 27,
   "id": "84e2f08a",
   "metadata": {},
   "outputs": [
    {
     "name": "stdout",
     "output_type": "stream",
     "text": [
      "avant riri\n"
     ]
    },
    {
     "data": {
      "text/plain": [
       "'riri'"
      ]
     },
     "execution_count": 27,
     "metadata": {},
     "output_type": "execute_result"
    }
   ],
   "source": [
    "next(a)"
   ]
  },
  {
   "cell_type": "code",
   "execution_count": 28,
   "id": "21cd6b7f",
   "metadata": {},
   "outputs": [
    {
     "name": "stdout",
     "output_type": "stream",
     "text": [
      "apres riri\n",
      "avant fifi\n"
     ]
    },
    {
     "data": {
      "text/plain": [
       "'fifi'"
      ]
     },
     "execution_count": 28,
     "metadata": {},
     "output_type": "execute_result"
    }
   ],
   "source": [
    "next(a)"
   ]
  },
  {
   "cell_type": "code",
   "execution_count": 29,
   "id": "ad5485a2",
   "metadata": {},
   "outputs": [
    {
     "name": "stdout",
     "output_type": "stream",
     "text": [
      "apre fifi\n",
      "avant loulou\n"
     ]
    },
    {
     "data": {
      "text/plain": [
       "'loulou'"
      ]
     },
     "execution_count": 29,
     "metadata": {},
     "output_type": "execute_result"
    }
   ],
   "source": [
    "next(a)"
   ]
  },
  {
   "cell_type": "code",
   "execution_count": 30,
   "id": "b7a78ed7",
   "metadata": {},
   "outputs": [
    {
     "name": "stdout",
     "output_type": "stream",
     "text": [
      "apres loulou\n"
     ]
    },
    {
     "ename": "StopIteration",
     "evalue": "",
     "output_type": "error",
     "traceback": [
      "\u001b[0;31m---------------------------------------------------------------------------\u001b[0m",
      "\u001b[0;31mStopIteration\u001b[0m                             Traceback (most recent call last)",
      "Cell \u001b[0;32mIn[30], line 1\u001b[0m\n\u001b[0;32m----> 1\u001b[0m \u001b[38;5;28;43mnext\u001b[39;49m\u001b[43m(\u001b[49m\u001b[43ma\u001b[49m\u001b[43m)\u001b[49m\n",
      "\u001b[0;31mStopIteration\u001b[0m: "
     ]
    }
   ],
   "source": [
    "next(a)"
   ]
  },
  {
   "cell_type": "code",
   "execution_count": 31,
   "id": "124e572b",
   "metadata": {},
   "outputs": [],
   "source": [
    "def my_lazy_map(func: Callable[[E], S], iterable: Iterator[E]) -> Iterator[S]:\n",
    "    for item in iterable:\n",
    "        yield func(item)\n",
    "\n",
    "\n",
    "def my_filter(func: Callable[[E], bool], iterable: Iterator[E]) -> Iterator[E]:\n",
    "    for item in iterable:\n",
    "        if func(item):\n",
    "            yield item\n"
   ]
  },
  {
   "cell_type": "code",
   "execution_count": 33,
   "id": "0a03d6d6",
   "metadata": {},
   "outputs": [
    {
     "data": {
      "text/plain": [
       "[1, 4, 9]"
      ]
     },
     "execution_count": 33,
     "metadata": {},
     "output_type": "execute_result"
    }
   ],
   "source": [
    "list(my_lazy_map(lambda x: x**2, [1, 2, 3]))"
   ]
  },
  {
   "cell_type": "code",
   "execution_count": 34,
   "id": "ad99949b",
   "metadata": {},
   "outputs": [
    {
     "name": "stdout",
     "output_type": "stream",
     "text": [
      "riri\n",
      "riri\n"
     ]
    }
   ],
   "source": [
    "elements = [\"riri\", \"fifi\", \"loulou\"]\n",
    "for element in elements:\n",
    "    print(element)\n",
    "    break\n",
    "for element in elements:\n",
    "    print(element)\n",
    "    break"
   ]
  },
  {
   "cell_type": "code",
   "execution_count": 35,
   "id": "fa67725d",
   "metadata": {},
   "outputs": [
    {
     "name": "stdout",
     "output_type": "stream",
     "text": [
      "avant riri\n",
      "riri\n",
      "apres riri\n",
      "avant fifi\n",
      "fifi\n"
     ]
    }
   ],
   "source": [
    "elements = first_lazy()\n",
    "for element in elements:\n",
    "    print(element)\n",
    "    break\n",
    "for element in elements:\n",
    "    print(element)\n",
    "    break"
   ]
  },
  {
   "cell_type": "code",
   "execution_count": null,
   "id": "aa5da2fa",
   "metadata": {},
   "outputs": [],
   "source": []
  }
 ],
 "metadata": {
  "kernelspec": {
   "display_name": "Python 3 (ipykernel)",
   "language": "python",
   "name": "python3"
  },
  "language_info": {
   "codemirror_mode": {
    "name": "ipython",
    "version": 3
   },
   "file_extension": ".py",
   "mimetype": "text/x-python",
   "name": "python",
   "nbconvert_exporter": "python",
   "pygments_lexer": "ipython3",
   "version": "3.9.9"
  }
 },
 "nbformat": 4,
 "nbformat_minor": 5
}
