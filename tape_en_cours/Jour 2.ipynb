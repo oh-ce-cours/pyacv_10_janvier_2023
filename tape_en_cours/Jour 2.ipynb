{
 "cells": [
  {
   "cell_type": "code",
   "execution_count": 3,
   "id": "b8472550",
   "metadata": {},
   "outputs": [],
   "source": [
    "from typing import Callable, Iterator, TypeVar, List\n",
    "\n",
    "E = TypeVar(\"E\")\n",
    "S = TypeVar(\"S\")\n",
    "\n",
    "def my_map(f: Callable[[E], S], data: Iterator[E])->List[S]:\n",
    "    pass"
   ]
  },
  {
   "cell_type": "markdown",
   "id": "83779229",
   "metadata": {},
   "source": [
    "# Fonctions map et filter"
   ]
  },
  {
   "cell_type": "code",
   "execution_count": null,
   "id": "585a70f7",
   "metadata": {},
   "outputs": [],
   "source": [
    "# A voir : \n",
    "* comment faire des itérateurs / itérable (objet paraisseux)\n",
    "    * yield\n",
    "    * class \n",
    "* programmation fo"
   ]
  }
 ],
 "metadata": {
  "kernelspec": {
   "display_name": "Python 3 (ipykernel)",
   "language": "python",
   "name": "python3"
  },
  "language_info": {
   "codemirror_mode": {
    "name": "ipython",
    "version": 3
   },
   "file_extension": ".py",
   "mimetype": "text/x-python",
   "name": "python",
   "nbconvert_exporter": "python",
   "pygments_lexer": "ipython3",
   "version": "3.9.9"
  }
 },
 "nbformat": 4,
 "nbformat_minor": 5
}
