{
 "cells": [
  {
   "cell_type": "code",
   "execution_count": 143,
   "id": "cb4b7b10",
   "metadata": {},
   "outputs": [],
   "source": [
    "from typing import Callable, Iterator, TypeVar, List\n",
    "\n",
    "E = TypeVar(\"E\")\n",
    "S = TypeVar(\"S\")\n",
    "\n",
    "def my_map(f: Callable[[E], S], data: Iterator[E])->List[S]:\n",
    "    pass"
   ]
  },
  {
   "cell_type": "markdown",
   "id": "77a19df6",
   "metadata": {},
   "source": [
    "# Fonctions map et filter"
   ]
  },
  {
   "cell_type": "code",
   "execution_count": 84,
   "id": "1458f657",
   "metadata": {},
   "outputs": [],
   "source": [
    "from typing import List, Callable, Iterable, TypeVar\n",
    "\n",
    "T_in = TypeVar('T_in')\n",
    "T_out = TypeVar('T_out')\n",
    "\n",
    "def my_map(func: Callable[[T_in], T_out], iterable: Iterable[T_in]) -> List[T_out]:\n",
    "    result = []\n",
    "    for item in iterable:\n",
    "        # print(item)\n",
    "        result.append(func(item))\n",
    "    return result\n",
    "\n",
    "def my_filter(func: Callable[[T_in], bool], iterable: Iterable[T_in]) -> List[T_out]:\n",
    "    result = []\n",
    "    for item in iterable:\n",
    "        if func(item):\n",
    "            result.append(item)\n",
    "    return result"
   ]
  },
  {
   "cell_type": "code",
   "execution_count": 37,
   "id": "3c206305",
   "metadata": {},
   "outputs": [
    {
     "name": "stdout",
     "output_type": "stream",
     "text": [
      "1\n",
      "2\n",
      "3\n"
     ]
    },
    {
     "data": {
      "text/plain": [
       "[1, 4, 9]"
      ]
     },
     "execution_count": 37,
     "metadata": {},
     "output_type": "execute_result"
    }
   ],
   "source": [
    "my_map(lambda x: x**2, [1, 2, 3])"
   ]
  },
  {
   "cell_type": "markdown",
   "id": "d4a06ed3",
   "metadata": {},
   "source": [
    "### A voir : \n",
    "* comment faire des itérateurs / itérable (objet paraisseux)\n",
    "    * yield\n",
    "    * class \n",
    "    * https://stackoverflow.com/questions/9884132/what-are-iterator-iterable-and-iteration\n",
    "    * https://stackoverflow.com/questions/27139004/special-use-for-iter-and-next \n",
    "* programmation fonctionnelle \n",
    "    * fonctions \n",
    "    * closures \n",
    "    * fonctions \n",
    "* types de donénes et complexité"
   ]
  },
  {
   "cell_type": "markdown",
   "id": "a2d742f9",
   "metadata": {},
   "source": [
    "# Itérateur / itérable "
   ]
  },
  {
   "cell_type": "code",
   "execution_count": 11,
   "id": "ddc29ae0",
   "metadata": {},
   "outputs": [
    {
     "name": "stdout",
     "output_type": "stream",
     "text": [
      "0\n",
      "1\n",
      "2\n"
     ]
    },
    {
     "ename": "StopIteration",
     "evalue": "",
     "output_type": "error",
     "traceback": [
      "\u001b[0;31m---------------------------------------------------------------------------\u001b[0m",
      "\u001b[0;31mStopIteration\u001b[0m                             Traceback (most recent call last)",
      "Cell \u001b[0;32mIn[11], line 5\u001b[0m\n\u001b[1;32m      3\u001b[0m \u001b[38;5;28mprint\u001b[39m(\u001b[38;5;28mnext\u001b[39m(a))\n\u001b[1;32m      4\u001b[0m \u001b[38;5;28mprint\u001b[39m(\u001b[38;5;28mnext\u001b[39m(a))\n\u001b[0;32m----> 5\u001b[0m \u001b[38;5;28mprint\u001b[39m(\u001b[38;5;28;43mnext\u001b[39;49m\u001b[43m(\u001b[49m\u001b[43ma\u001b[49m\u001b[43m)\u001b[49m)\n",
      "\u001b[0;31mStopIteration\u001b[0m: "
     ]
    }
   ],
   "source": [
    "a = iter(range(3))\n",
    "print(next(a))\n",
    "print(next(a))\n",
    "print(next(a))\n",
    "print(next(a))"
   ]
  },
  {
   "cell_type": "markdown",
   "id": "6d786b17",
   "metadata": {},
   "source": [
    "Comment est codée `for` en python (plus ou moins, on ne retourne pas le résultat)\n",
    "\n",
    "```python\n",
    "\n",
    "while True:\n",
    "    try:\n",
    "        return next(a)\n",
    "    except StopIteration:\n",
    "        break \n",
    "```"
   ]
  },
  {
   "cell_type": "code",
   "execution_count": 12,
   "id": "6043bb1c",
   "metadata": {},
   "outputs": [
    {
     "name": "stdout",
     "output_type": "stream",
     "text": [
      "1\n",
      "2\n",
      "3\n"
     ]
    },
    {
     "ename": "StopIteration",
     "evalue": "",
     "output_type": "error",
     "traceback": [
      "\u001b[0;31m---------------------------------------------------------------------------\u001b[0m",
      "\u001b[0;31mStopIteration\u001b[0m                             Traceback (most recent call last)",
      "Cell \u001b[0;32mIn[12], line 5\u001b[0m\n\u001b[1;32m      3\u001b[0m \u001b[38;5;28mprint\u001b[39m(\u001b[38;5;28mnext\u001b[39m(a))\n\u001b[1;32m      4\u001b[0m \u001b[38;5;28mprint\u001b[39m(\u001b[38;5;28mnext\u001b[39m(a))\n\u001b[0;32m----> 5\u001b[0m \u001b[38;5;28mprint\u001b[39m(\u001b[38;5;28;43mnext\u001b[39;49m\u001b[43m(\u001b[49m\u001b[43ma\u001b[49m\u001b[43m)\u001b[49m)\n",
      "\u001b[0;31mStopIteration\u001b[0m: "
     ]
    }
   ],
   "source": [
    "a = iter([1, 2, 3])\n",
    "print(next(a))\n",
    "print(next(a))\n",
    "print(next(a))\n",
    "print(next(a))"
   ]
  },
  {
   "cell_type": "code",
   "execution_count": 26,
   "id": "c5f1595a",
   "metadata": {},
   "outputs": [
    {
     "name": "stdout",
     "output_type": "stream",
     "text": [
      "<function first_lazy at 0x7fe19824aaf0> <class 'function'>\n",
      "<generator object first_lazy at 0x7fe198ba3120> <class 'generator'>\n"
     ]
    }
   ],
   "source": [
    "def first_lazy():\n",
    "    print(\"avant riri\")\n",
    "    yield \"riri\"\n",
    "    print(\"apres riri\")\n",
    "    print(\"avant fifi\")\n",
    "    yield \"fifi\"\n",
    "    print(\"apre fifi\")\n",
    "    print(\"avant loulou\")\n",
    "    yield \"loulou\"\n",
    "    print(\"apres loulou\")\n",
    "\n",
    "    \n",
    "print(first_lazy, type(first_lazy))\n",
    "a = first_lazy()\n",
    "print(a, type(a))"
   ]
  },
  {
   "cell_type": "code",
   "execution_count": 27,
   "id": "a217c3b0",
   "metadata": {},
   "outputs": [
    {
     "name": "stdout",
     "output_type": "stream",
     "text": [
      "avant riri\n"
     ]
    },
    {
     "data": {
      "text/plain": [
       "'riri'"
      ]
     },
     "execution_count": 27,
     "metadata": {},
     "output_type": "execute_result"
    }
   ],
   "source": [
    "next(a)"
   ]
  },
  {
   "cell_type": "code",
   "execution_count": 28,
   "id": "f4b9c89d",
   "metadata": {},
   "outputs": [
    {
     "name": "stdout",
     "output_type": "stream",
     "text": [
      "apres riri\n",
      "avant fifi\n"
     ]
    },
    {
     "data": {
      "text/plain": [
       "'fifi'"
      ]
     },
     "execution_count": 28,
     "metadata": {},
     "output_type": "execute_result"
    }
   ],
   "source": [
    "next(a)"
   ]
  },
  {
   "cell_type": "code",
   "execution_count": 29,
   "id": "ca4e2c86",
   "metadata": {},
   "outputs": [
    {
     "name": "stdout",
     "output_type": "stream",
     "text": [
      "apre fifi\n",
      "avant loulou\n"
     ]
    },
    {
     "data": {
      "text/plain": [
       "'loulou'"
      ]
     },
     "execution_count": 29,
     "metadata": {},
     "output_type": "execute_result"
    }
   ],
   "source": [
    "next(a)"
   ]
  },
  {
   "cell_type": "code",
   "execution_count": 30,
   "id": "ec4bc6ed",
   "metadata": {},
   "outputs": [
    {
     "name": "stdout",
     "output_type": "stream",
     "text": [
      "apres loulou\n"
     ]
    },
    {
     "ename": "StopIteration",
     "evalue": "",
     "output_type": "error",
     "traceback": [
      "\u001b[0;31m---------------------------------------------------------------------------\u001b[0m",
      "\u001b[0;31mStopIteration\u001b[0m                             Traceback (most recent call last)",
      "Cell \u001b[0;32mIn[30], line 1\u001b[0m\n\u001b[0;32m----> 1\u001b[0m \u001b[38;5;28;43mnext\u001b[39;49m\u001b[43m(\u001b[49m\u001b[43ma\u001b[49m\u001b[43m)\u001b[49m\n",
      "\u001b[0;31mStopIteration\u001b[0m: "
     ]
    }
   ],
   "source": [
    "next(a)"
   ]
  },
  {
   "cell_type": "code",
   "execution_count": 85,
   "id": "10133d59",
   "metadata": {},
   "outputs": [],
   "source": [
    "def my_lazy_map(func: Callable[[E], S], iterable: Iterator[E]) -> Iterator[S]:\n",
    "    for item in iterable:\n",
    "        #print(item)\n",
    "        yield func(item)\n",
    "\n",
    "\n",
    "def my_filter(func: Callable[[E], bool], iterable: Iterator[E]) -> Iterator[E]:\n",
    "    for item in iterable:\n",
    "        if func(item):\n",
    "            yield item\n"
   ]
  },
  {
   "cell_type": "code",
   "execution_count": 86,
   "id": "db4bf843",
   "metadata": {},
   "outputs": [
    {
     "name": "stdout",
     "output_type": "stream",
     "text": [
      "yielded 1\n",
      "yielded 4\n",
      "yielded 9\n",
      "##########\n",
      "returned 1\n",
      "returned 4\n",
      "returned 9\n"
     ]
    }
   ],
   "source": [
    "# yield va changer \"l'ordre des appels\" dans la fonction \n",
    "\n",
    "for elem in my_lazy_map(lambda x: x**2, [1, 2, 3]):\n",
    "    print(f\"yielded {elem}\")\n",
    "print(\"##########\")\n",
    "for elem in my_map(lambda x: x**2, [1, 2, 3]):\n",
    "    print(f\"returned {elem}\")"
   ]
  },
  {
   "cell_type": "code",
   "execution_count": 34,
   "id": "391965cf",
   "metadata": {},
   "outputs": [
    {
     "name": "stdout",
     "output_type": "stream",
     "text": [
      "riri\n",
      "riri\n"
     ]
    }
   ],
   "source": [
    "elements = [\"riri\", \"fifi\", \"loulou\"]\n",
    "for element in elements:\n",
    "    print(element)\n",
    "    break\n",
    "for element in elements:\n",
    "    print(element)\n",
    "    break"
   ]
  },
  {
   "cell_type": "code",
   "execution_count": 35,
   "id": "df3888a3",
   "metadata": {},
   "outputs": [
    {
     "name": "stdout",
     "output_type": "stream",
     "text": [
      "avant riri\n",
      "riri\n",
      "apres riri\n",
      "avant fifi\n",
      "fifi\n"
     ]
    }
   ],
   "source": [
    "elements = first_lazy()\n",
    "for element in elements:\n",
    "    print(element)\n",
    "    break\n",
    "for element in elements:\n",
    "    print(element)\n",
    "    break"
   ]
  },
  {
   "cell_type": "code",
   "execution_count": 48,
   "id": "15800b9b",
   "metadata": {},
   "outputs": [
    {
     "name": "stdout",
     "output_type": "stream",
     "text": [
      "285\n"
     ]
    }
   ],
   "source": [
    "lc = sum([i**2 for i in range(10)])\n",
    "print(lc)"
   ]
  },
  {
   "cell_type": "code",
   "execution_count": 52,
   "id": "ea144743",
   "metadata": {},
   "outputs": [
    {
     "name": "stdout",
     "output_type": "stream",
     "text": [
      "<generator object <genexpr> at 0x7fe198924660>\n"
     ]
    }
   ],
   "source": [
    "lc = (i**2 for i in range(10))\n",
    "print(lc)"
   ]
  },
  {
   "cell_type": "code",
   "execution_count": 56,
   "id": "77b25f04",
   "metadata": {},
   "outputs": [
    {
     "name": "stdout",
     "output_type": "stream",
     "text": [
      "<__main__.MyIter object at 0x7fe198b40130>\n",
      "riri\n"
     ]
    }
   ],
   "source": [
    "class MyIter():\n",
    "    def __iter__(self):\n",
    "        yield \"riri\"\n",
    "        \n",
    "m = MyIter()\n",
    "print(m)\n",
    "for elem in m:\n",
    "    print(elem)"
   ]
  },
  {
   "cell_type": "code",
   "execution_count": 61,
   "id": "3a945930",
   "metadata": {},
   "outputs": [
    {
     "name": "stdout",
     "output_type": "stream",
     "text": [
      "1\n",
      "2\n",
      "3\n",
      "4\n"
     ]
    }
   ],
   "source": [
    "class Book:\n",
    "    def __init__(self):\n",
    "        self.pages = [1, 2, 3, 4]\n",
    "    \n",
    "    def __iter__(self):\n",
    "        #return iter(self.pages)\n",
    "        yield from self.pages\n",
    "        \n",
    "livre = Book()\n",
    "for page in livre:\n",
    "    print(page)"
   ]
  },
  {
   "cell_type": "code",
   "execution_count": 130,
   "id": "2a18bea3",
   "metadata": {},
   "outputs": [
    {
     "name": "stdout",
     "output_type": "stream",
     "text": [
      "dans iter\n",
      "0\n",
      "1\n",
      "4\n",
      "9\n",
      "16\n",
      "dans iter\n",
      "1\n",
      "3\n",
      "5\n"
     ]
    }
   ],
   "source": [
    "class MyMap:\n",
    "    def __init__(self, f, iterable):\n",
    "        self.f = f\n",
    "        self.iterable = iter(iterable)\n",
    "    \n",
    "    def __iter__(self):\n",
    "        # for elem in self.iterable:\n",
    "        #     yield self.f(elem)\n",
    "        \n",
    "        print(\"dans iter\")\n",
    "        return self\n",
    "    \n",
    "    def __next__(self):\n",
    "        elem = next(self.iterable)\n",
    "        return self.f(elem)\n",
    "\n",
    "        \n",
    "for elem in MyMap(lambda x: x**2, range(5)):\n",
    "    print(elem)\n",
    "    \n",
    "    \n",
    "class MyFilter:\n",
    "    def __init__(self, f, iterable):\n",
    "        self.f = f\n",
    "        self.iterable = iter(iterable)\n",
    "    \n",
    "    def __iter__(self):\n",
    "        # for elem in self.iterable:\n",
    "        #     yield self.f(elem)\n",
    "        \n",
    "        print(\"dans iter\")\n",
    "        return self\n",
    "    \n",
    "    def __next__(self):\n",
    "        elem = next(self.iterable)\n",
    "        while not self.f(elem):\n",
    "            elem = next(self.iterable)\n",
    "        return elem\n",
    "\n",
    "        \n",
    "for elem in MyFilter(lambda x: x%2 == 1, [1, 3, 5]):\n",
    "    print(elem)"
   ]
  },
  {
   "cell_type": "code",
   "execution_count": 90,
   "id": "f7c01a24",
   "metadata": {},
   "outputs": [
    {
     "name": "stdout",
     "output_type": "stream",
     "text": [
      "72.3 µs ± 4.55 µs per loop (mean ± std. dev. of 7 runs, 10,000 loops each)\n"
     ]
    }
   ],
   "source": [
    "%timeit list(my_map(lambda x: x**2, range(100)))"
   ]
  },
  {
   "cell_type": "code",
   "execution_count": 91,
   "id": "9fb130a3",
   "metadata": {},
   "outputs": [
    {
     "name": "stdout",
     "output_type": "stream",
     "text": [
      "82.6 µs ± 7.17 µs per loop (mean ± std. dev. of 7 runs, 10,000 loops each)\n"
     ]
    }
   ],
   "source": [
    "%timeit list(my_lazy_map(lambda x: x**2, range(100)))"
   ]
  },
  {
   "cell_type": "markdown",
   "id": "3caae0bf",
   "metadata": {},
   "source": [
    "# Fonctions / FP (functionnal programming)  "
   ]
  },
  {
   "cell_type": "code",
   "execution_count": 92,
   "id": "21e7a7b7",
   "metadata": {},
   "outputs": [
    {
     "data": {
      "text/plain": [
       "5"
      ]
     },
     "execution_count": 92,
     "metadata": {},
     "output_type": "execute_result"
    }
   ],
   "source": [
    "def addition(x, y):\n",
    "    return x + y\n",
    "\n",
    "addition(2, 3)"
   ]
  },
  {
   "cell_type": "code",
   "execution_count": 98,
   "id": "6e13d0a7",
   "metadata": {},
   "outputs": [
    {
     "data": {
      "text/plain": [
       "5"
      ]
     },
     "execution_count": 98,
     "metadata": {},
     "output_type": "execute_result"
    }
   ],
   "source": [
    "toto = addition\n",
    "toto(2, 3)"
   ]
  },
  {
   "cell_type": "code",
   "execution_count": 99,
   "id": "e5e1dec3",
   "metadata": {},
   "outputs": [
    {
     "name": "stdout",
     "output_type": "stream",
     "text": [
      "<function addition at 0x7fe1981b6940> <function addition at 0x7fe1981b6940>\n"
     ]
    }
   ],
   "source": [
    "print(toto, addition)"
   ]
  },
  {
   "cell_type": "code",
   "execution_count": 108,
   "id": "d1684d4d",
   "metadata": {},
   "outputs": [
    {
     "name": "stdout",
     "output_type": "stream",
     "text": [
      "1 2 3\n",
      "1 2 3\n"
     ]
    }
   ],
   "source": [
    "d = {\n",
    "    \"a\": 1, \"b\": 2, \"c\": 3\n",
    "}\n",
    "\n",
    "def f(a, b, c):\n",
    "    print(a, b, c)\n",
    "    \n",
    "def g(*args, **kwargs):\n",
    "    print(args, kwargs)\n",
    "\n",
    "f(d[\"a\"], d[\"b\"], d[\"c\"])\n",
    "f(**d)"
   ]
  },
  {
   "cell_type": "code",
   "execution_count": 123,
   "id": "4b53ced9",
   "metadata": {},
   "outputs": [
    {
     "name": "stdout",
     "output_type": "stream",
     "text": [
      "avant append\n",
      "dans liste vide\n",
      "<function append at 0x7fe1985518b0>\n",
      "apres append\n",
      "dans append\n",
      "dans liste vide\n",
      "[1]\n",
      "dans append\n",
      "dans liste vide\n",
      "[1]\n"
     ]
    }
   ],
   "source": [
    "def liste_vide():\n",
    "    print(\"dans liste vide\")\n",
    "    return []\n",
    "\n",
    "print(\"avant append\")\n",
    "def append_wrong(a=liste_vide()):\n",
    "    print(\"dans append\")\n",
    "    a.append(1)\n",
    "    return a \n",
    "\n",
    "def append(a=None):\n",
    "    print(\"dans append\")\n",
    "    if a is None:\n",
    "        a = liste_vide()\n",
    "    # a = a is not None or liste_vide()\n",
    "    a.append(1)\n",
    "    return a \n",
    "\n",
    "\n",
    "print(append)\n",
    "print(\"apres append\")\n",
    "print(append())\n",
    "print(append())"
   ]
  },
  {
   "cell_type": "code",
   "execution_count": null,
   "id": "2d571e28",
   "metadata": {},
   "outputs": [],
   "source": []
  },
  {
   "cell_type": "markdown",
   "id": "bab55cca",
   "metadata": {},
   "source": [
    "# Ancrage mémoriel\n",
    "\n",
    "* fonctions d'ordre supérieur (fonction qui manipule d'autres fonctions comme argument ou résultat)\n",
    "    * `map`\n",
    "    * `filter`\n",
    "    * `reduce` \n",
    "    * les fonctions sont des variables comme les autres => les fonctions sont `first class citizens`\n",
    "* types paramétrés (`TypeVar`) : permet de définir un type générique qui peut être réutilisé (typiquement pour une liste d'élément, on retourne un élément => List[T] -> T)\n",
    "* itérateurs\n",
    "    * plusieurs façons d'en faire : \n",
    "        * avec `yield` \n",
    "        * avec un `generator expression` : `(x**2 for x in range(10))`\n",
    "        * avec une classe qui surcharge\n",
    "            * `__iter__` : iterable\n",
    "            * `__next__` : (`__iter__` va retourner `self`) iterator\n",
    "* ne pas avoir de paramètres mutables dans les fonctions (dans 99% des cas)\n",
    "    * parce que les paramètres ne sont calculé qu'une fois : à la création de la fonction\n",
    "    * si on veut des paramètres nouveaux / indépendants entre chaque appel, on les défini à l'intérieur du corps de la fonction "
   ]
  },
  {
   "cell_type": "markdown",
   "id": "a17be695",
   "metadata": {},
   "source": [
    "## Application partielle \n",
    "\n",
    "* avec `functools.partial`\n",
    "* avec `lambda`"
   ]
  },
  {
   "cell_type": "code",
   "execution_count": 134,
   "id": "4a29f097",
   "metadata": {},
   "outputs": [
    {
     "name": "stdout",
     "output_type": "stream",
     "text": [
      "[10, 11, 12, 13, 14] [10, 11, 12, 13, 14]\n"
     ]
    }
   ],
   "source": [
    "def additionne(x, y):\n",
    "    return x + y \n",
    "\n",
    "from functools import partial\n",
    "\n",
    "a = list(map(partial(additionne, 10), range(5)))\n",
    "b = list(map(lambda x: additionne(x, 10), range(5)))\n",
    "print(a, b)"
   ]
  },
  {
   "cell_type": "markdown",
   "id": "b7484ef3",
   "metadata": {},
   "source": [
    "## Règle d'accès aux espaces de noms / variables des fonctions \n",
    "\n",
    "LEGB\n",
    "* local\n",
    "* englobing \n",
    "* global \n",
    "* builtin "
   ]
  },
  {
   "cell_type": "code",
   "execution_count": 145,
   "id": "3dbc7a04",
   "metadata": {},
   "outputs": [
    {
     "name": "stdout",
     "output_type": "stream",
     "text": [
      "1\n",
      "1\n"
     ]
    }
   ],
   "source": [
    "variable = 1\n",
    "\n",
    "def modifie_variable():\n",
    "    global variable\n",
    "    variable = variable + 1\n",
    "\n",
    "print(variable)\n",
    "modifie_variable()\n",
    "print(variable)"
   ]
  },
  {
   "cell_type": "code",
   "execution_count": 149,
   "id": "d08b443c",
   "metadata": {},
   "outputs": [
    {
     "name": "stdout",
     "output_type": "stream",
     "text": [
      "3\n"
     ]
    }
   ],
   "source": [
    "def toto():\n",
    "    print(zdertyuyiulkjh)\n",
    "    \n",
    "zdertyuyiulkjh = 3\n",
    "toto()"
   ]
  },
  {
   "cell_type": "code",
   "execution_count": 151,
   "id": "724f3008",
   "metadata": {},
   "outputs": [
    {
     "name": "stdout",
     "output_type": "stream",
     "text": [
      "dans a\n",
      "b\n"
     ]
    }
   ],
   "source": [
    "def b():\n",
    "    print(\"b\")\n",
    "\n",
    "\n",
    "def a():\n",
    "    print(\"dans a\")\n",
    "    b()\n",
    "\n",
    "    \n",
    "\n",
    "a()"
   ]
  },
  {
   "cell_type": "code",
   "execution_count": 155,
   "id": "45198fbd",
   "metadata": {},
   "outputs": [
    {
     "name": "stdout",
     "output_type": "stream",
     "text": [
      "14\n",
      "14\n",
      "14\n",
      "14\n",
      "14\n",
      "14\n",
      "14\n",
      "14\n",
      "14\n",
      "14\n"
     ]
    }
   ],
   "source": [
    "fs = []\n",
    "for i in range(10):\n",
    "    fs.append(lambda x: x+i)\n",
    "\n",
    "for f in fs:\n",
    "    print(f(5))"
   ]
  },
  {
   "cell_type": "code",
   "execution_count": 153,
   "id": "55e40bd5",
   "metadata": {},
   "outputs": [
    {
     "name": "stdout",
     "output_type": "stream",
     "text": [
      "9\n"
     ]
    }
   ],
   "source": [
    "print(i)"
   ]
  },
  {
   "cell_type": "code",
   "execution_count": null,
   "id": "9616124e",
   "metadata": {},
   "outputs": [],
   "source": []
  }
 ],
 "metadata": {
  "kernelspec": {
   "display_name": "Python 3 (ipykernel)",
   "language": "python",
   "name": "python3"
  },
  "language_info": {
   "codemirror_mode": {
    "name": "ipython",
    "version": 3
   },
   "file_extension": ".py",
   "mimetype": "text/x-python",
   "name": "python",
   "nbconvert_exporter": "python",
   "pygments_lexer": "ipython3",
   "version": "3.9.9"
  }
 },
 "nbformat": 4,
 "nbformat_minor": 5
}
