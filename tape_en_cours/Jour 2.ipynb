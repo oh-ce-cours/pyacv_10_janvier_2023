{
 "cells": [
  {
   "cell_type": "code",
   "execution_count": 3,
   "id": "c4d42f32",
   "metadata": {},
   "outputs": [],
   "source": [
    "from typing import Callable, Iterator, TypeVar, List\n",
    "\n",
    "E = TypeVar(\"E\")\n",
    "S = TypeVar(\"S\")\n",
    "\n",
    "def my_map(f: Callable[[E], S], data: Iterator[E])->List[S]:\n",
    "    pass"
   ]
  },
  {
   "cell_type": "markdown",
   "id": "3b4dcac3",
   "metadata": {},
   "source": [
    "# Fonctions map et filter"
   ]
  },
  {
   "cell_type": "code",
   "execution_count": 7,
   "id": "9e6a4c0a",
   "metadata": {},
   "outputs": [],
   "source": [
    "from typing import List, Callable, Iterable, TypeVar\n",
    "\n",
    "T_in = TypeVar('T_in')\n",
    "T_out = TypeVar('T_out')\n",
    "\n",
    "def my_map(func: Callable[[T_in], T_out], iterable: Iterable[T_in]) -> List[T_out]:\n",
    "    result = []\n",
    "    for item in iterable:\n",
    "        result.append(func(item))\n",
    "    return result\n",
    "\n",
    "def my_filter(func: Callable[[T_in], bool], iterable: Iterable[T_in]) -> List[T_out]:\n",
    "    result = []\n",
    "    for item in iterable:\n",
    "        if func(item):\n",
    "            result.append(item)\n",
    "    return result"
   ]
  },
  {
   "cell_type": "markdown",
   "id": "3c9a401e",
   "metadata": {},
   "source": [
    "### A voir : \n",
    "* comment faire des itérateurs / itérable (objet paraisseux)\n",
    "    * yield\n",
    "    * class \n",
    "* programmation fonctionnelle \n",
    "    * fonctions \n",
    "    * closures \n",
    "    * fonctions \n",
    "* types de donénes et complexité"
   ]
  },
  {
   "cell_type": "markdown",
   "id": "3f6a2a20",
   "metadata": {},
   "source": [
    "# Itérateur / itérable "
   ]
  },
  {
   "cell_type": "code",
   "execution_count": 11,
   "id": "3f509be1",
   "metadata": {},
   "outputs": [
    {
     "name": "stdout",
     "output_type": "stream",
     "text": [
      "0\n",
      "1\n",
      "2\n"
     ]
    },
    {
     "ename": "StopIteration",
     "evalue": "",
     "output_type": "error",
     "traceback": [
      "\u001b[0;31m---------------------------------------------------------------------------\u001b[0m",
      "\u001b[0;31mStopIteration\u001b[0m                             Traceback (most recent call last)",
      "Cell \u001b[0;32mIn[11], line 5\u001b[0m\n\u001b[1;32m      3\u001b[0m \u001b[38;5;28mprint\u001b[39m(\u001b[38;5;28mnext\u001b[39m(a))\n\u001b[1;32m      4\u001b[0m \u001b[38;5;28mprint\u001b[39m(\u001b[38;5;28mnext\u001b[39m(a))\n\u001b[0;32m----> 5\u001b[0m \u001b[38;5;28mprint\u001b[39m(\u001b[38;5;28;43mnext\u001b[39;49m\u001b[43m(\u001b[49m\u001b[43ma\u001b[49m\u001b[43m)\u001b[49m)\n",
      "\u001b[0;31mStopIteration\u001b[0m: "
     ]
    }
   ],
   "source": [
    "a = iter(range(3))\n",
    "print(next(a))\n",
    "print(next(a))\n",
    "print(next(a))\n",
    "print(next(a))"
   ]
  },
  {
   "cell_type": "markdown",
   "id": "49938de4",
   "metadata": {},
   "source": [
    "Comment est codée `for` en python (plus ou moins, on ne retourne pas le résultat)\n",
    "\n",
    "```python\n",
    "\n",
    "while True:\n",
    "    try:\n",
    "        return next(a)\n",
    "    except StopIteration:\n",
    "        break \n",
    "```"
   ]
  },
  {
   "cell_type": "code",
   "execution_count": 12,
   "id": "ca2e08b4",
   "metadata": {},
   "outputs": [
    {
     "name": "stdout",
     "output_type": "stream",
     "text": [
      "1\n",
      "2\n",
      "3\n"
     ]
    },
    {
     "ename": "StopIteration",
     "evalue": "",
     "output_type": "error",
     "traceback": [
      "\u001b[0;31m---------------------------------------------------------------------------\u001b[0m",
      "\u001b[0;31mStopIteration\u001b[0m                             Traceback (most recent call last)",
      "Cell \u001b[0;32mIn[12], line 5\u001b[0m\n\u001b[1;32m      3\u001b[0m \u001b[38;5;28mprint\u001b[39m(\u001b[38;5;28mnext\u001b[39m(a))\n\u001b[1;32m      4\u001b[0m \u001b[38;5;28mprint\u001b[39m(\u001b[38;5;28mnext\u001b[39m(a))\n\u001b[0;32m----> 5\u001b[0m \u001b[38;5;28mprint\u001b[39m(\u001b[38;5;28;43mnext\u001b[39;49m\u001b[43m(\u001b[49m\u001b[43ma\u001b[49m\u001b[43m)\u001b[49m)\n",
      "\u001b[0;31mStopIteration\u001b[0m: "
     ]
    }
   ],
   "source": [
    "a = iter([1, 2, 3])\n",
    "print(next(a))\n",
    "print(next(a))\n",
    "print(next(a))\n",
    "print(next(a))"
   ]
  },
  {
   "cell_type": "code",
   "execution_count": 26,
   "id": "615050a1",
   "metadata": {},
   "outputs": [
    {
     "name": "stdout",
     "output_type": "stream",
     "text": [
      "<function first_lazy at 0x7fe19824aaf0> <class 'function'>\n",
      "<generator object first_lazy at 0x7fe198ba3120> <class 'generator'>\n"
     ]
    }
   ],
   "source": [
    "def first_lazy():\n",
    "    print(\"avant riri\")\n",
    "    yield \"riri\"\n",
    "    print(\"apres riri\")\n",
    "    print(\"avant fifi\")\n",
    "    yield \"fifi\"\n",
    "    print(\"apre fifi\")\n",
    "    print(\"avant loulou\")\n",
    "    yield \"loulou\"\n",
    "    print(\"apres loulou\")\n",
    "\n",
    "    \n",
    "print(first_lazy, type(first_lazy))\n",
    "a = first_lazy()\n",
    "print(a, type(a))"
   ]
  },
  {
   "cell_type": "code",
   "execution_count": 27,
   "id": "d33da15d",
   "metadata": {},
   "outputs": [
    {
     "name": "stdout",
     "output_type": "stream",
     "text": [
      "avant riri\n"
     ]
    },
    {
     "data": {
      "text/plain": [
       "'riri'"
      ]
     },
     "execution_count": 27,
     "metadata": {},
     "output_type": "execute_result"
    }
   ],
   "source": [
    "next(a)"
   ]
  },
  {
   "cell_type": "code",
   "execution_count": 28,
   "id": "3d559bec",
   "metadata": {},
   "outputs": [
    {
     "name": "stdout",
     "output_type": "stream",
     "text": [
      "apres riri\n",
      "avant fifi\n"
     ]
    },
    {
     "data": {
      "text/plain": [
       "'fifi'"
      ]
     },
     "execution_count": 28,
     "metadata": {},
     "output_type": "execute_result"
    }
   ],
   "source": [
    "next(a)"
   ]
  },
  {
   "cell_type": "code",
   "execution_count": 29,
   "id": "13771cf4",
   "metadata": {},
   "outputs": [
    {
     "name": "stdout",
     "output_type": "stream",
     "text": [
      "apre fifi\n",
      "avant loulou\n"
     ]
    },
    {
     "data": {
      "text/plain": [
       "'loulou'"
      ]
     },
     "execution_count": 29,
     "metadata": {},
     "output_type": "execute_result"
    }
   ],
   "source": [
    "next(a)"
   ]
  },
  {
   "cell_type": "code",
   "execution_count": 30,
   "id": "f6e7f107",
   "metadata": {},
   "outputs": [
    {
     "name": "stdout",
     "output_type": "stream",
     "text": [
      "apres loulou\n"
     ]
    },
    {
     "ename": "StopIteration",
     "evalue": "",
     "output_type": "error",
     "traceback": [
      "\u001b[0;31m---------------------------------------------------------------------------\u001b[0m",
      "\u001b[0;31mStopIteration\u001b[0m                             Traceback (most recent call last)",
      "Cell \u001b[0;32mIn[30], line 1\u001b[0m\n\u001b[0;32m----> 1\u001b[0m \u001b[38;5;28;43mnext\u001b[39;49m\u001b[43m(\u001b[49m\u001b[43ma\u001b[49m\u001b[43m)\u001b[49m\n",
      "\u001b[0;31mStopIteration\u001b[0m: "
     ]
    }
   ],
   "source": [
    "next(a)"
   ]
  },
  {
   "cell_type": "code",
   "execution_count": null,
   "id": "bf307a27",
   "metadata": {},
   "outputs": [],
   "source": [
    "def my_lazy_map(func: Callable[[T_in], T_out], iterable: Iterable[T_in]) -> Iterable[T_out]:\n",
    "    for item in iterable:\n",
    "        yield func(item)\n",
    "\n",
    "\n",
    "def my_filter(func: Callable[[T_in], bool], iterable: Iterable[T_in]) -> Iterable[T_out]:\n",
    "    for item in iterable:\n",
    "        if func(item):\n",
    "            yield item\n"
   ]
  }
 ],
 "metadata": {
  "kernelspec": {
   "display_name": "Python 3 (ipykernel)",
   "language": "python",
   "name": "python3"
  },
  "language_info": {
   "codemirror_mode": {
    "name": "ipython",
    "version": 3
   },
   "file_extension": ".py",
   "mimetype": "text/x-python",
   "name": "python",
   "nbconvert_exporter": "python",
   "pygments_lexer": "ipython3",
   "version": "3.9.9"
  }
 },
 "nbformat": 4,
 "nbformat_minor": 5
}
