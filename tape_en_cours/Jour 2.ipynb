{
 "cells": [
  {
   "cell_type": "code",
   "execution_count": 3,
   "id": "62b95bc7",
   "metadata": {},
   "outputs": [],
   "source": [
    "from typing import Callable, Iterator, TypeVar, List\n",
    "\n",
    "E = TypeVar(\"E\")\n",
    "S = TypeVar(\"S\")\n",
    "\n",
    "def my_map(f: Callable[[E], S], data: Iterator[E])->List[S]:\n",
    "    pass"
   ]
  },
  {
   "cell_type": "markdown",
   "id": "88946672",
   "metadata": {},
   "source": [
    "# Fonctions map et filter"
   ]
  },
  {
   "cell_type": "code",
   "execution_count": 7,
   "id": "9a762239",
   "metadata": {},
   "outputs": [],
   "source": [
    "from typing import List, Callable, Iterable, TypeVar\n",
    "\n",
    "T_in = TypeVar('T_in')\n",
    "T_out = TypeVar('T_out')\n",
    "\n",
    "def my_map(func: Callable[[T_in], T_out], iterable: Iterable[T_in]) -> List[T_out]:\n",
    "    result = []\n",
    "    for item in iterable:\n",
    "        result.append(func(item))\n",
    "    return result\n",
    "\n",
    "def my_filter(func: Callable[[T_in], bool], iterable: Iterable[T_in]) -> List[T_out]:\n",
    "    result = []\n",
    "    for item in iterable:\n",
    "        if func(item):\n",
    "            result.append(item)\n",
    "    return result"
   ]
  },
  {
   "cell_type": "markdown",
   "id": "f270fa7b",
   "metadata": {},
   "source": [
    "### A voir : \n",
    "* comment faire des itérateurs / itérable (objet paraisseux)\n",
    "    * yield\n",
    "    * class \n",
    "* programmation fonctionnelle \n",
    "    * fonctions \n",
    "    * closures \n",
    "    * fonctions \n",
    "* types de donénes et complexité"
   ]
  },
  {
   "cell_type": "code",
   "execution_count": null,
   "id": "9c28d122",
   "metadata": {},
   "outputs": [],
   "source": []
  }
 ],
 "metadata": {
  "kernelspec": {
   "display_name": "Python 3 (ipykernel)",
   "language": "python",
   "name": "python3"
  },
  "language_info": {
   "codemirror_mode": {
    "name": "ipython",
    "version": 3
   },
   "file_extension": ".py",
   "mimetype": "text/x-python",
   "name": "python",
   "nbconvert_exporter": "python",
   "pygments_lexer": "ipython3",
   "version": "3.9.9"
  }
 },
 "nbformat": 4,
 "nbformat_minor": 5
}
