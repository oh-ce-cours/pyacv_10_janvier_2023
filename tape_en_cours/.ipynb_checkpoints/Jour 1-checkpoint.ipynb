{
 "cells": [
  {
   "cell_type": "markdown",
   "id": "01c2c4b0",
   "metadata": {},
   "source": [
    "# Matin \n",
    "\n",
    "* présentation de python \n",
    "* parlé des environnements virtuels\n",
    "    * intéressants pour avoir plusieurs versions de bibliothèques en parallèle\n",
    "    * globalement : un environnement par projet "
   ]
  }
 ],
 "metadata": {
  "kernelspec": {
   "display_name": "Python 3 (ipykernel)",
   "language": "python",
   "name": "python3"
  },
  "language_info": {
   "codemirror_mode": {
    "name": "ipython",
    "version": 3
   },
   "file_extension": ".py",
   "mimetype": "text/x-python",
   "name": "python",
   "nbconvert_exporter": "python",
   "pygments_lexer": "ipython3",
   "version": "3.9.9"
  }
 },
 "nbformat": 4,
 "nbformat_minor": 5
}
