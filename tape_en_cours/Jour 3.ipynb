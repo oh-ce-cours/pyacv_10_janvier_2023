{
 "cells": [
  {
   "cell_type": "markdown",
   "id": "816462d2",
   "metadata": {},
   "source": [
    "# Rappels jour 2 \n",
    "\n",
    "* gotchas sur les fonctions \n",
    "    * pas d'arguments mutables en entré\n",
    "    * accès aux varaible : L(ocal) E(nglobing) G(lobal) B(uiltin)\n",
    "    * les variables englobing sont passées par closure"
   ]
  }
 ],
 "metadata": {
  "kernelspec": {
   "display_name": "Python 3 (ipykernel)",
   "language": "python",
   "name": "python3"
  },
  "language_info": {
   "codemirror_mode": {
    "name": "ipython",
    "version": 3
   },
   "file_extension": ".py",
   "mimetype": "text/x-python",
   "name": "python",
   "nbconvert_exporter": "python",
   "pygments_lexer": "ipython3",
   "version": "3.9.9"
  }
 },
 "nbformat": 4,
 "nbformat_minor": 5
}
