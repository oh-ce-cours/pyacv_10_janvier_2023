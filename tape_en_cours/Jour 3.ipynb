{
 "cells": [
  {
   "cell_type": "markdown",
   "id": "553c7076",
   "metadata": {},
   "source": [
    "# Rappels jour 2 \n",
    "\n",
    "* gotchas sur les fonctions \n",
    "    * pas d'arguments mutables en entré\n",
    "    * accès aux varaible : L(ocal) E(nglobing) G(lobal) B(uiltin)\n",
    "    * les variables englobing sont passées par closure\n",
    "    * en python les closures : \n",
    "        * sont late binding \n",
    "        * sont en lecture seule\n",
    "* curryfication =>  passer d'une fonction à N arguments à N fonctions imbriquées à 1 argument chacune \n",
    "* décorateurs\n",
    "    * on peut le comprendre comme une composée de fonction `toto = deco(toto)` \n",
    "    * on peut chainer les décorateurs, l'ordre a une importance \n",
    "    * la fonction a l'intérieur s'appelle `wrapper` par convention \n",
    "    * dans le cas général, la bonne pratique consiste à décorer le wrapper avec `functools.wraps` pour conserver les métadonnées de la fonction d'origine (nom, docstring)\n",
    "* les décorateurs peuvent être paramétrés, on rajoute une fonction qui va générer le décorateur qui nous intéresse"
   ]
  },
  {
   "cell_type": "code",
   "execution_count": 9,
   "id": "0bad9dc9",
   "metadata": {},
   "outputs": [
    {
     "name": "stdout",
     "output_type": "stream",
     "text": [
      "b\n",
      "None\n"
     ]
    }
   ],
   "source": [
    "class Toto:\n",
    "    def __init__(self, a):\n",
    "        self.a = a \n",
    "    \n",
    "    def hello(self):\n",
    "        print(self.a)\n",
    "    \n",
    "    def __call__(self, b):\n",
    "        print(b)\n",
    "        \n",
    "        \n",
    "t = Toto(\"a\")\n",
    "t(\"b\")"
   ]
  },
  {
   "cell_type": "code",
   "execution_count": 2,
   "id": "e6bde057",
   "metadata": {},
   "outputs": [],
   "source": [
    "import inspect"
   ]
  },
  {
   "cell_type": "code",
   "execution_count": 3,
   "id": "8f91c063",
   "metadata": {},
   "outputs": [
    {
     "ename": "TypeError",
     "evalue": "<class '__main__.Toto'> is a built-in class",
     "output_type": "error",
     "traceback": [
      "\u001b[0;31m---------------------------------------------------------------------------\u001b[0m",
      "\u001b[0;31mTypeError\u001b[0m                                 Traceback (most recent call last)",
      "Cell \u001b[0;32mIn[3], line 1\u001b[0m\n\u001b[0;32m----> 1\u001b[0m \u001b[43minspect\u001b[49m\u001b[38;5;241;43m.\u001b[39;49m\u001b[43mgetsourcefile\u001b[49m\u001b[43m(\u001b[49m\u001b[43mToto\u001b[49m\u001b[43m)\u001b[49m\n",
      "File \u001b[0;32m/usr/lib64/python3.9/inspect.py:697\u001b[0m, in \u001b[0;36mgetsourcefile\u001b[0;34m(object)\u001b[0m\n\u001b[1;32m    693\u001b[0m \u001b[38;5;28;01mdef\u001b[39;00m \u001b[38;5;21mgetsourcefile\u001b[39m(\u001b[38;5;28mobject\u001b[39m):\n\u001b[1;32m    694\u001b[0m \u001b[38;5;250m    \u001b[39m\u001b[38;5;124;03m\"\"\"Return the filename that can be used to locate an object's source.\u001b[39;00m\n\u001b[1;32m    695\u001b[0m \u001b[38;5;124;03m    Return None if no way can be identified to get the source.\u001b[39;00m\n\u001b[1;32m    696\u001b[0m \u001b[38;5;124;03m    \"\"\"\u001b[39;00m\n\u001b[0;32m--> 697\u001b[0m     filename \u001b[38;5;241m=\u001b[39m \u001b[43mgetfile\u001b[49m\u001b[43m(\u001b[49m\u001b[38;5;28;43mobject\u001b[39;49m\u001b[43m)\u001b[49m\n\u001b[1;32m    698\u001b[0m     all_bytecode_suffixes \u001b[38;5;241m=\u001b[39m importlib\u001b[38;5;241m.\u001b[39mmachinery\u001b[38;5;241m.\u001b[39mDEBUG_BYTECODE_SUFFIXES[:]\n\u001b[1;32m    699\u001b[0m     all_bytecode_suffixes \u001b[38;5;241m+\u001b[39m\u001b[38;5;241m=\u001b[39m importlib\u001b[38;5;241m.\u001b[39mmachinery\u001b[38;5;241m.\u001b[39mOPTIMIZED_BYTECODE_SUFFIXES[:]\n",
      "File \u001b[0;32m/usr/lib64/python3.9/inspect.py:666\u001b[0m, in \u001b[0;36mgetfile\u001b[0;34m(object)\u001b[0m\n\u001b[1;32m    664\u001b[0m         \u001b[38;5;28;01mif\u001b[39;00m \u001b[38;5;28mgetattr\u001b[39m(module, \u001b[38;5;124m'\u001b[39m\u001b[38;5;124m__file__\u001b[39m\u001b[38;5;124m'\u001b[39m, \u001b[38;5;28;01mNone\u001b[39;00m):\n\u001b[1;32m    665\u001b[0m             \u001b[38;5;28;01mreturn\u001b[39;00m module\u001b[38;5;241m.\u001b[39m\u001b[38;5;18m__file__\u001b[39m\n\u001b[0;32m--> 666\u001b[0m     \u001b[38;5;28;01mraise\u001b[39;00m \u001b[38;5;167;01mTypeError\u001b[39;00m(\u001b[38;5;124m'\u001b[39m\u001b[38;5;132;01m{!r}\u001b[39;00m\u001b[38;5;124m is a built-in class\u001b[39m\u001b[38;5;124m'\u001b[39m\u001b[38;5;241m.\u001b[39mformat(\u001b[38;5;28mobject\u001b[39m))\n\u001b[1;32m    667\u001b[0m \u001b[38;5;28;01mif\u001b[39;00m ismethod(\u001b[38;5;28mobject\u001b[39m):\n\u001b[1;32m    668\u001b[0m     \u001b[38;5;28mobject\u001b[39m \u001b[38;5;241m=\u001b[39m \u001b[38;5;28mobject\u001b[39m\u001b[38;5;241m.\u001b[39m\u001b[38;5;18m__func__\u001b[39m\n",
      "\u001b[0;31mTypeError\u001b[0m: <class '__main__.Toto'> is a built-in class"
     ]
    }
   ],
   "source": [
    "inspect.getsourcefile(Toto)"
   ]
  },
  {
   "cell_type": "code",
   "execution_count": 4,
   "id": "1fc54c19",
   "metadata": {},
   "outputs": [
    {
     "ename": "TypeError",
     "evalue": "<class '__main__.Toto'> is a built-in class",
     "output_type": "error",
     "traceback": [
      "\u001b[0;31m---------------------------------------------------------------------------\u001b[0m",
      "\u001b[0;31mTypeError\u001b[0m                                 Traceback (most recent call last)",
      "Cell \u001b[0;32mIn[4], line 1\u001b[0m\n\u001b[0;32m----> 1\u001b[0m \u001b[43minspect\u001b[49m\u001b[38;5;241;43m.\u001b[39;49m\u001b[43mgetsourcelines\u001b[49m\u001b[43m(\u001b[49m\u001b[43mToto\u001b[49m\u001b[43m)\u001b[49m\n",
      "File \u001b[0;32m/usr/lib64/python3.9/inspect.py:1006\u001b[0m, in \u001b[0;36mgetsourcelines\u001b[0;34m(object)\u001b[0m\n\u001b[1;32m    998\u001b[0m \u001b[38;5;250m\u001b[39m\u001b[38;5;124;03m\"\"\"Return a list of source lines and starting line number for an object.\u001b[39;00m\n\u001b[1;32m    999\u001b[0m \n\u001b[1;32m   1000\u001b[0m \u001b[38;5;124;03mThe argument may be a module, class, method, function, traceback, frame,\u001b[39;00m\n\u001b[0;32m   (...)\u001b[0m\n\u001b[1;32m   1003\u001b[0m \u001b[38;5;124;03moriginal source file the first line of code was found.  An OSError is\u001b[39;00m\n\u001b[1;32m   1004\u001b[0m \u001b[38;5;124;03mraised if the source code cannot be retrieved.\"\"\"\u001b[39;00m\n\u001b[1;32m   1005\u001b[0m \u001b[38;5;28mobject\u001b[39m \u001b[38;5;241m=\u001b[39m unwrap(\u001b[38;5;28mobject\u001b[39m)\n\u001b[0;32m-> 1006\u001b[0m lines, lnum \u001b[38;5;241m=\u001b[39m \u001b[43mfindsource\u001b[49m\u001b[43m(\u001b[49m\u001b[38;5;28;43mobject\u001b[39;49m\u001b[43m)\u001b[49m\n\u001b[1;32m   1008\u001b[0m \u001b[38;5;28;01mif\u001b[39;00m istraceback(\u001b[38;5;28mobject\u001b[39m):\n\u001b[1;32m   1009\u001b[0m     \u001b[38;5;28mobject\u001b[39m \u001b[38;5;241m=\u001b[39m \u001b[38;5;28mobject\u001b[39m\u001b[38;5;241m.\u001b[39mtb_frame\n",
      "File \u001b[0;32m/usr/lib64/python3.9/inspect.py:817\u001b[0m, in \u001b[0;36mfindsource\u001b[0;34m(object)\u001b[0m\n\u001b[1;32m    809\u001b[0m \u001b[38;5;28;01mdef\u001b[39;00m \u001b[38;5;21mfindsource\u001b[39m(\u001b[38;5;28mobject\u001b[39m):\n\u001b[1;32m    810\u001b[0m \u001b[38;5;250m    \u001b[39m\u001b[38;5;124;03m\"\"\"Return the entire source file and starting line number for an object.\u001b[39;00m\n\u001b[1;32m    811\u001b[0m \n\u001b[1;32m    812\u001b[0m \u001b[38;5;124;03m    The argument may be a module, class, method, function, traceback, frame,\u001b[39;00m\n\u001b[1;32m    813\u001b[0m \u001b[38;5;124;03m    or code object.  The source code is returned as a list of all the lines\u001b[39;00m\n\u001b[1;32m    814\u001b[0m \u001b[38;5;124;03m    in the file and the line number indexes a line in that list.  An OSError\u001b[39;00m\n\u001b[1;32m    815\u001b[0m \u001b[38;5;124;03m    is raised if the source code cannot be retrieved.\"\"\"\u001b[39;00m\n\u001b[0;32m--> 817\u001b[0m     file \u001b[38;5;241m=\u001b[39m \u001b[43mgetsourcefile\u001b[49m\u001b[43m(\u001b[49m\u001b[38;5;28;43mobject\u001b[39;49m\u001b[43m)\u001b[49m\n\u001b[1;32m    818\u001b[0m     \u001b[38;5;28;01mif\u001b[39;00m file:\n\u001b[1;32m    819\u001b[0m         \u001b[38;5;66;03m# Invalidate cache if needed.\u001b[39;00m\n\u001b[1;32m    820\u001b[0m         linecache\u001b[38;5;241m.\u001b[39mcheckcache(file)\n",
      "File \u001b[0;32m/usr/lib64/python3.9/inspect.py:697\u001b[0m, in \u001b[0;36mgetsourcefile\u001b[0;34m(object)\u001b[0m\n\u001b[1;32m    693\u001b[0m \u001b[38;5;28;01mdef\u001b[39;00m \u001b[38;5;21mgetsourcefile\u001b[39m(\u001b[38;5;28mobject\u001b[39m):\n\u001b[1;32m    694\u001b[0m \u001b[38;5;250m    \u001b[39m\u001b[38;5;124;03m\"\"\"Return the filename that can be used to locate an object's source.\u001b[39;00m\n\u001b[1;32m    695\u001b[0m \u001b[38;5;124;03m    Return None if no way can be identified to get the source.\u001b[39;00m\n\u001b[1;32m    696\u001b[0m \u001b[38;5;124;03m    \"\"\"\u001b[39;00m\n\u001b[0;32m--> 697\u001b[0m     filename \u001b[38;5;241m=\u001b[39m \u001b[43mgetfile\u001b[49m\u001b[43m(\u001b[49m\u001b[38;5;28;43mobject\u001b[39;49m\u001b[43m)\u001b[49m\n\u001b[1;32m    698\u001b[0m     all_bytecode_suffixes \u001b[38;5;241m=\u001b[39m importlib\u001b[38;5;241m.\u001b[39mmachinery\u001b[38;5;241m.\u001b[39mDEBUG_BYTECODE_SUFFIXES[:]\n\u001b[1;32m    699\u001b[0m     all_bytecode_suffixes \u001b[38;5;241m+\u001b[39m\u001b[38;5;241m=\u001b[39m importlib\u001b[38;5;241m.\u001b[39mmachinery\u001b[38;5;241m.\u001b[39mOPTIMIZED_BYTECODE_SUFFIXES[:]\n",
      "File \u001b[0;32m/usr/lib64/python3.9/inspect.py:666\u001b[0m, in \u001b[0;36mgetfile\u001b[0;34m(object)\u001b[0m\n\u001b[1;32m    664\u001b[0m         \u001b[38;5;28;01mif\u001b[39;00m \u001b[38;5;28mgetattr\u001b[39m(module, \u001b[38;5;124m'\u001b[39m\u001b[38;5;124m__file__\u001b[39m\u001b[38;5;124m'\u001b[39m, \u001b[38;5;28;01mNone\u001b[39;00m):\n\u001b[1;32m    665\u001b[0m             \u001b[38;5;28;01mreturn\u001b[39;00m module\u001b[38;5;241m.\u001b[39m\u001b[38;5;18m__file__\u001b[39m\n\u001b[0;32m--> 666\u001b[0m     \u001b[38;5;28;01mraise\u001b[39;00m \u001b[38;5;167;01mTypeError\u001b[39;00m(\u001b[38;5;124m'\u001b[39m\u001b[38;5;132;01m{!r}\u001b[39;00m\u001b[38;5;124m is a built-in class\u001b[39m\u001b[38;5;124m'\u001b[39m\u001b[38;5;241m.\u001b[39mformat(\u001b[38;5;28mobject\u001b[39m))\n\u001b[1;32m    667\u001b[0m \u001b[38;5;28;01mif\u001b[39;00m ismethod(\u001b[38;5;28mobject\u001b[39m):\n\u001b[1;32m    668\u001b[0m     \u001b[38;5;28mobject\u001b[39m \u001b[38;5;241m=\u001b[39m \u001b[38;5;28mobject\u001b[39m\u001b[38;5;241m.\u001b[39m\u001b[38;5;18m__func__\u001b[39m\n",
      "\u001b[0;31mTypeError\u001b[0m: <class '__main__.Toto'> is a built-in class"
     ]
    }
   ],
   "source": [
    "inspect.getsourcelines(Toto)"
   ]
  },
  {
   "cell_type": "code",
   "execution_count": 23,
   "id": "7f34bf10",
   "metadata": {},
   "outputs": [],
   "source": [
    "from typing import Callable, TypeVar\n",
    "\n",
    "T = TypeVar('T')\n",
    "\n",
    "class MyDecorator:\n",
    "    my_list = []\n",
    "    \n",
    "    def __init__(self, func: Callable[[T], T]):\n",
    "        self.func = func\n",
    "        self.my_list.append(func)\n",
    "        \n",
    "    def __call__(self, *args, **kwargs) -> T:\n",
    "        print(\"Before function call\")\n",
    "        result = self.func(*args, **kwargs)\n",
    "        print(\"After function call\")\n",
    "        return result\n",
    "    \n",
    "    def analyse(self):\n",
    "        self.my_list"
   ]
  },
  {
   "cell_type": "code",
   "execution_count": 24,
   "id": "1e84f368",
   "metadata": {},
   "outputs": [
    {
     "name": "stdout",
     "output_type": "stream",
     "text": [
      "Before function call\n",
      "After function call\n"
     ]
    },
    {
     "data": {
      "text/plain": [
       "'HELLO'"
      ]
     },
     "execution_count": 24,
     "metadata": {},
     "output_type": "execute_result"
    }
   ],
   "source": [
    "@MyDecorator\n",
    "def my_function(arg: str) -> str:\n",
    "    return arg.upper()\n",
    "\n",
    "\n",
    "@MyDecorator\n",
    "def toto(arg: str) -> str:\n",
    "    return arg.upper()\n",
    "\n",
    "my_function(\"hello\")"
   ]
  },
  {
   "cell_type": "code",
   "execution_count": 25,
   "id": "f063c049",
   "metadata": {},
   "outputs": [
    {
     "data": {
      "text/plain": [
       "[<function __main__.my_function(arg: str) -> str>,\n",
       " <function __main__.toto(arg: str) -> str>]"
      ]
     },
     "execution_count": 25,
     "metadata": {},
     "output_type": "execute_result"
    }
   ],
   "source": [
    "MyDecorator.my_list"
   ]
  },
  {
   "cell_type": "markdown",
   "id": "2d18001f",
   "metadata": {},
   "source": [
    "# Gestion de fichiers / gestionnaires de contexte"
   ]
  },
  {
   "cell_type": "code",
   "execution_count": 54,
   "id": "98b95d5d",
   "metadata": {},
   "outputs": [
    {
     "name": "stdout",
     "output_type": "stream",
     "text": [
      "le fichier n'est pas trouvé\n"
     ]
    }
   ],
   "source": [
    "try:\n",
    "    f = open(\"./fibuzz.py\")\n",
    "except FileNotFoundError:\n",
    "    print(\"le fichier n'est pas trouvé\")\n",
    "finally:\n",
    "    try:\n",
    "        f.close()\n",
    "    except NameError:\n",
    "        pass"
   ]
  },
  {
   "cell_type": "code",
   "execution_count": 49,
   "id": "64e4d6de",
   "metadata": {},
   "outputs": [
    {
     "data": {
      "text/plain": [
       "True"
      ]
     },
     "execution_count": 49,
     "metadata": {},
     "output_type": "execute_result"
    }
   ],
   "source": [
    "f.closed"
   ]
  },
  {
   "cell_type": "code",
   "execution_count": 38,
   "id": "83efc4de",
   "metadata": {},
   "outputs": [
    {
     "name": "stdout",
     "output_type": "stream",
     "text": [
      "No module named 'numpi' <class 'ModuleNotFoundError'>\n"
     ]
    },
    {
     "ename": "NameError",
     "evalue": "name 'numpi' is not defined",
     "output_type": "error",
     "traceback": [
      "\u001b[0;31m---------------------------------------------------------------------------\u001b[0m",
      "\u001b[0;31mNameError\u001b[0m                                 Traceback (most recent call last)",
      "Cell \u001b[0;32mIn[38], line 6\u001b[0m\n\u001b[1;32m      3\u001b[0m \u001b[38;5;28;01mexcept\u001b[39;00m \u001b[38;5;167;01mImportError\u001b[39;00m \u001b[38;5;28;01mas\u001b[39;00m e:\n\u001b[1;32m      4\u001b[0m     \u001b[38;5;28mprint\u001b[39m(e, \u001b[38;5;28mtype\u001b[39m(e))\n\u001b[0;32m----> 6\u001b[0m \u001b[43mnumpi\u001b[49m\u001b[38;5;241m.\u001b[39marray()\n",
      "\u001b[0;31mNameError\u001b[0m: name 'numpi' is not defined"
     ]
    }
   ],
   "source": [
    "try:\n",
    "    import numpi \n",
    "except ImportError as e:\n",
    "    print(e, type(e))\n",
    "\n",
    "numpi.array()"
   ]
  },
  {
   "cell_type": "code",
   "execution_count": 55,
   "id": "6eb86a7e",
   "metadata": {},
   "outputs": [
    {
     "name": "stdout",
     "output_type": "stream",
     "text": [
      "dans try\n"
     ]
    },
    {
     "data": {
      "text/plain": [
       "2"
      ]
     },
     "execution_count": 55,
     "metadata": {},
     "output_type": "execute_result"
    }
   ],
   "source": [
    "def exemple():\n",
    "    try:\n",
    "        print(\"dans try\")\n",
    "        return 1\n",
    "    finally:\n",
    "        return 2\n",
    "    \n",
    "exemple()"
   ]
  },
  {
   "cell_type": "code",
   "execution_count": 56,
   "id": "9296e610",
   "metadata": {},
   "outputs": [
    {
     "ename": "ZeroDivisionError",
     "evalue": "division by zero",
     "output_type": "error",
     "traceback": [
      "\u001b[0;31m---------------------------------------------------------------------------\u001b[0m",
      "\u001b[0;31mZeroDivisionError\u001b[0m                         Traceback (most recent call last)",
      "Cell \u001b[0;32mIn[56], line 2\u001b[0m\n\u001b[1;32m      1\u001b[0m \u001b[38;5;28;01mwith\u001b[39;00m \u001b[38;5;28mopen\u001b[39m(\u001b[38;5;124m\"\u001b[39m\u001b[38;5;124m./fizzbuzz.py\u001b[39m\u001b[38;5;124m\"\u001b[39m) \u001b[38;5;28;01mas\u001b[39;00m f_text:\n\u001b[0;32m----> 2\u001b[0m     \u001b[38;5;241;43m1\u001b[39;49m\u001b[43m \u001b[49m\u001b[38;5;241;43m/\u001b[39;49m\u001b[43m \u001b[49m\u001b[38;5;241;43m0\u001b[39;49m\n",
      "\u001b[0;31mZeroDivisionError\u001b[0m: division by zero"
     ]
    }
   ],
   "source": [
    "with open(\"./fizzbuzz.py\") as f_text:\n",
    "    1 / 0"
   ]
  },
  {
   "cell_type": "code",
   "execution_count": 57,
   "id": "b4a2808c",
   "metadata": {},
   "outputs": [
    {
     "data": {
      "text/plain": [
       "True"
      ]
     },
     "execution_count": 57,
     "metadata": {},
     "output_type": "execute_result"
    }
   ],
   "source": [
    "f_text.closed"
   ]
  },
  {
   "cell_type": "code",
   "execution_count": 67,
   "id": "09bbabe7",
   "metadata": {},
   "outputs": [
    {
     "name": "stdout",
     "output_type": "stream",
     "text": [
      "dans enter\n",
      "dans le with toto\n",
      "dans exit None None None\n"
     ]
    }
   ],
   "source": [
    "class MonContextManager:\n",
    "    def __enter__(self):\n",
    "        print(\"dans enter\")\n",
    "        return \"toto\"\n",
    "\n",
    "    def __exit__(self, exception_type, exception_object, traceback):\n",
    "        print(\"dans exit\", exception_type, exception_object, traceback)\n",
    "    \n",
    "mcm = MonContextManager()\n",
    "\n",
    "with mcm as f:\n",
    "    print(\"dans le with\", f)"
   ]
  },
  {
   "cell_type": "code",
   "execution_count": 72,
   "id": "a9c0a9d4",
   "metadata": {},
   "outputs": [
    {
     "name": "stdout",
     "output_type": "stream",
     "text": [
      "1.0002660751342773\n"
     ]
    }
   ],
   "source": [
    "import time\n",
    "\n",
    "class MonContextManager:\n",
    "    def __enter__(self):\n",
    "        self.tic = time.time()\n",
    "\n",
    "    def __exit__(self, exception_type, exception_object, traceback):\n",
    "        print(time.time() - self.tic)\n",
    "    \n",
    "mcm = MonContextManager()\n",
    "\n",
    "with mcm as f:\n",
    "    time.sleep(1)"
   ]
  },
  {
   "cell_type": "code",
   "execution_count": 68,
   "id": "7e77a353",
   "metadata": {},
   "outputs": [
    {
     "name": "stdout",
     "output_type": "stream",
     "text": [
      "Entering the context...\n",
      "Hello, World!\n",
      "Leaving the context...\n"
     ]
    }
   ],
   "source": [
    "from contextlib import contextmanager\n",
    "\n",
    "@contextmanager\n",
    "def hello_context_manager():\n",
    "    print(\"Entering the context...\")\n",
    "    yield \"Hello, World!\"\n",
    "    print(\"Leaving the context...\")\n",
    "\n",
    "\n",
    "with hello_context_manager() as hello:\n",
    "    print(hello)\n"
   ]
  },
  {
   "cell_type": "markdown",
   "id": "81cedd88",
   "metadata": {},
   "source": [
    "# Rappel matin\n",
    "\n",
    "* fin des décorateurs\n",
    "    * sous forme de classe => surcharger `__call__`\n",
    "    * code à l'intérieur du wrapper éxécuté lors de l'appel de la fonction, code à l'extérieur exécuté au moment de la décoration de la fonction \n",
    "* context manager\n",
    "    * à quoi ça sert ? isoler un environemment / un contexte dans un bloc, il se passe quelque chose à l'entrée et à la sortie du bloc \n",
    "    * restaurer un état même si le code à l'intérieur du bloc à crashé (fermer un fichier, relacher un verrou)\n",
    "    * comment ça s'écrit ?\n",
    "        * `with ... (as ...):`\n",
    "        * implémenter sur n'importe quelle classe 2 méthodes : `__enter__` et `__exit__`\n",
    "        * `@contextlib.contextmanager` => il faut qu'il y ait **un** `yield` (la fonction doit être un générateur), ce qui est avant sera dans le `__enter__` et après dans le `__exit__`\n",
    "* POO\n",
    "    * variables de classes\n",
    "    * rappels POO"
   ]
  },
  {
   "cell_type": "code",
   "execution_count": 12,
   "id": "a969d487",
   "metadata": {},
   "outputs": [
    {
     "name": "stdout",
     "output_type": "stream",
     "text": [
      "<__main__.Exemple object at 0x7fb4d43e4b50>\n",
      "<__main__.Exemple object at 0x7fb4d43e4b50> <class '__main__.Exemple'> 0x7fb4d43e4b50\n",
      "rtyjh\n"
     ]
    }
   ],
   "source": [
    "class Exemple:\n",
    "    def __init__(self):\n",
    "        print(self)\n",
    "        self.toto = \"kegtrht\"\n",
    "\n",
    "e = Exemple()\n",
    "print(e, type(e), hex(id(e)))\n",
    "\n",
    "e.toto = \"rtyjh\"\n",
    "print(e.toto)"
   ]
  },
  {
   "cell_type": "code",
   "execution_count": 14,
   "id": "7752f0bb",
   "metadata": {},
   "outputs": [
    {
     "name": "stdout",
     "output_type": "stream",
     "text": [
      "<__main__.Exemple object at 0x7fb4b680fd60>\n",
      "<__main__.Exemple object at 0x7fb4b680fd60>\n",
      "<__main__.Exemple object at 0x7fb4d43e4b50> <__main__.Exemple object at 0x7fb4b680fd60>\n"
     ]
    }
   ],
   "source": [
    "e2 = Exemple()\n",
    "print(e2)\n",
    "\n",
    "print(e, e2)"
   ]
  },
  {
   "cell_type": "code",
   "execution_count": 18,
   "id": "465838e6",
   "metadata": {},
   "outputs": [
    {
     "name": "stdout",
     "output_type": "stream",
     "text": [
      "je suis un objet de type <class '__main__.Jolie'>\n"
     ]
    }
   ],
   "source": [
    "class Jolie:\n",
    "    def __str__(self):\n",
    "        return f\"je suis un objet de type {type(self)}\"\n",
    "\n",
    "j = Jolie()\n",
    "print(j)"
   ]
  },
  {
   "cell_type": "markdown",
   "id": "003cf1f2",
   "metadata": {},
   "source": [
    "# Copie de variables"
   ]
  },
  {
   "cell_type": "code",
   "execution_count": 20,
   "id": "2a76247d",
   "metadata": {},
   "outputs": [
    {
     "name": "stdout",
     "output_type": "stream",
     "text": [
      "140414135172416 140414135172416\n",
      "[1] [1]\n"
     ]
    }
   ],
   "source": [
    "a = []\n",
    "b = a\n",
    "\n",
    "a.append(1)\n",
    "print(id(a), id(b))\n",
    "print(a, b)"
   ]
  },
  {
   "cell_type": "code",
   "execution_count": 21,
   "id": "9f3844e9",
   "metadata": {},
   "outputs": [
    {
     "name": "stdout",
     "output_type": "stream",
     "text": [
      "140414136227072 140414135172736\n",
      "[1] []\n"
     ]
    }
   ],
   "source": [
    "a = []\n",
    "b = a[:]\n",
    "\n",
    "a.append(1)\n",
    "print(id(a), id(b))\n",
    "print(a, b)"
   ]
  },
  {
   "cell_type": "code",
   "execution_count": 22,
   "id": "9f83698c",
   "metadata": {},
   "outputs": [
    {
     "name": "stdout",
     "output_type": "stream",
     "text": [
      "140414135146304 140414135146176\n",
      "[1] []\n"
     ]
    }
   ],
   "source": [
    "from copy import copy\n",
    "\n",
    "a = []\n",
    "b = copy(a)\n",
    "\n",
    "a.append(1)\n",
    "print(id(a), id(b))\n",
    "print(a, b)"
   ]
  },
  {
   "cell_type": "code",
   "execution_count": 31,
   "id": "fb0a3909",
   "metadata": {},
   "outputs": [
    {
     "name": "stdout",
     "output_type": "stream",
     "text": [
      "140414135203584 140414134908864\n",
      "140414134884480 140414134884480\n",
      "[[1], 'toto'] [[1]]\n"
     ]
    }
   ],
   "source": [
    "a = [[]]\n",
    "b = copy(a)\n",
    "a.append(\"toto\")\n",
    "a[0].append(1)\n",
    "print(id(a), id(b))\n",
    "print(id(a[0]), id(b[0]))\n",
    "print(a, b)"
   ]
  },
  {
   "cell_type": "code",
   "execution_count": 32,
   "id": "fe78e7e0",
   "metadata": {},
   "outputs": [
    {
     "name": "stdout",
     "output_type": "stream",
     "text": [
      "140414134869440 140414134819648\n",
      "140414134935808 140414134918528\n",
      "[[1]] [[]]\n"
     ]
    }
   ],
   "source": [
    "from copy import deepcopy\n",
    "\n",
    "a = [[]]\n",
    "b = deepcopy(a)\n",
    "print(id(a), id(b))\n",
    "print(id(a[0]), id(b[0]))\n",
    "\n",
    "a[0].append(1)\n",
    "print(a, b)"
   ]
  },
  {
   "cell_type": "code",
   "execution_count": 37,
   "id": "5670929d",
   "metadata": {},
   "outputs": [
    {
     "name": "stdout",
     "output_type": "stream",
     "text": [
      "oui\n",
      "on demande name\n",
      "non\n"
     ]
    }
   ],
   "source": [
    "class Tout:\n",
    "    def __init__(self):\n",
    "        self.salut = \"oui\"\n",
    "        \n",
    "    def __getattr__(self, name):\n",
    "        print(\"on demande name\")\n",
    "        return \"non\"\n",
    "    \n",
    "t = Tout()\n",
    "print(t.salut)\n",
    "print(t.bof)"
   ]
  },
  {
   "cell_type": "code",
   "execution_count": 40,
   "id": "28a8c5ef",
   "metadata": {},
   "outputs": [],
   "source": [
    "class TemperatureConverter:\n",
    "    def __init__(self, kelvin):\n",
    "        self.kelvin = kelvin\n",
    "    \n",
    "    @property\n",
    "    def celsius(self):\n",
    "        print(\"dans celsius get\")\n",
    "        return self.kelvin - 273.15\n",
    "    \n",
    "    @celsius.setter\n",
    "    def celsius(self, value_celsius):\n",
    "        print(\"dans celsius set\", value_celsius)\n",
    "        self.kelvin = value_celsius + 273.15"
   ]
  },
  {
   "cell_type": "code",
   "execution_count": 41,
   "id": "b7155868",
   "metadata": {},
   "outputs": [],
   "source": [
    "tc = TemperatureConverter(10)"
   ]
  },
  {
   "cell_type": "code",
   "execution_count": 42,
   "id": "e4dcb68b",
   "metadata": {},
   "outputs": [
    {
     "data": {
      "text/plain": [
       "10"
      ]
     },
     "execution_count": 42,
     "metadata": {},
     "output_type": "execute_result"
    }
   ],
   "source": [
    "tc.kelvin"
   ]
  },
  {
   "cell_type": "code",
   "execution_count": 43,
   "id": "f2419d81",
   "metadata": {},
   "outputs": [],
   "source": [
    "tc.kelvin = 30"
   ]
  },
  {
   "cell_type": "code",
   "execution_count": 44,
   "id": "7276a5bb",
   "metadata": {},
   "outputs": [
    {
     "name": "stdout",
     "output_type": "stream",
     "text": [
      "dans celsius get\n"
     ]
    },
    {
     "data": {
      "text/plain": [
       "-243.14999999999998"
      ]
     },
     "execution_count": 44,
     "metadata": {},
     "output_type": "execute_result"
    }
   ],
   "source": [
    "tc.celsius"
   ]
  },
  {
   "cell_type": "code",
   "execution_count": 45,
   "id": "425464cb",
   "metadata": {},
   "outputs": [
    {
     "name": "stdout",
     "output_type": "stream",
     "text": [
      "dans celsius set 30\n"
     ]
    }
   ],
   "source": [
    "tc.celsius = 30"
   ]
  },
  {
   "cell_type": "code",
   "execution_count": 46,
   "id": "cc6dd9ac",
   "metadata": {},
   "outputs": [
    {
     "data": {
      "text/plain": [
       "303.15"
      ]
     },
     "execution_count": 46,
     "metadata": {},
     "output_type": "execute_result"
    }
   ],
   "source": [
    "tc.kelvin"
   ]
  },
  {
   "cell_type": "code",
   "execution_count": 52,
   "id": "95f99a63",
   "metadata": {},
   "outputs": [
    {
     "name": "stdout",
     "output_type": "stream",
     "text": [
      "<__main__.Exemple object at 0x7fb4b68b4af0> <class '__main__.Exemple'>\n",
      "<__main__.Exemple object at 0x7fb4b6bc9f70>\n"
     ]
    }
   ],
   "source": [
    "class Exemple:\n",
    "    def methode(self):\n",
    "        print(self, type(self))\n",
    "        current_type = type(self)\n",
    "        return current_type()\n",
    "        \n",
    "e = Exemple()\n",
    "e2 = e.methode()\n",
    "print(e2)"
   ]
  },
  {
   "cell_type": "code",
   "execution_count": 55,
   "id": "384f318b",
   "metadata": {},
   "outputs": [
    {
     "data": {
      "text/plain": [
       "345"
      ]
     },
     "execution_count": 55,
     "metadata": {},
     "output_type": "execute_result"
    }
   ],
   "source": [
    "(type(4))(345.32)"
   ]
  },
  {
   "cell_type": "code",
   "execution_count": null,
   "id": "04220059",
   "metadata": {},
   "outputs": [],
   "source": []
  }
 ],
 "metadata": {
  "kernelspec": {
   "display_name": "Python 3 (ipykernel)",
   "language": "python",
   "name": "python3"
  },
  "language_info": {
   "codemirror_mode": {
    "name": "ipython",
    "version": 3
   },
   "file_extension": ".py",
   "mimetype": "text/x-python",
   "name": "python",
   "nbconvert_exporter": "python",
   "pygments_lexer": "ipython3",
   "version": "3.9.9"
  }
 },
 "nbformat": 4,
 "nbformat_minor": 5
}
