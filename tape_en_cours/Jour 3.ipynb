{
 "cells": [
  {
   "cell_type": "markdown",
   "id": "087bcf76",
   "metadata": {},
   "source": [
    "# Rappels jour 2 \n",
    "\n",
    "* gotchas sur les fonctions \n",
    "    * pas d'arguments mutables en entré\n",
    "    * accès aux varaible : L(ocal) E(nglobing) G(lobal) B(uiltin)\n",
    "    * les variables englobing sont passées par closure\n",
    "    * en python les closures : \n",
    "        * sont late binding \n",
    "        * sont en lecture seule\n",
    "* curryfication =>  passer d'une fonction à N arguments à N fonctions imbriquées à 1 argument chacune \n",
    "* décorateurs\n",
    "    * on peut le comprendre comme une composée de fonction `toto = deco(toto)` \n",
    "    * on peut chainer les décorateurs, l'ordre a une importance \n",
    "    * la fonction a l'intérieur s'appelle `wrapper` par convention \n",
    "    * dans le cas général, la bonne pratique consiste à décorer le wrapper avec `functools.wraps` pour conserver les métadonnées de la fonction d'origine (nom, docstring)\n",
    "    * les décorateurs peuvent être paramétrés, on rajoute une fonction qui va générer le décorateur qui nous intéresse"
   ]
  },
  {
   "cell_type": "code",
   "execution_count": null,
   "id": "575fc02c",
   "metadata": {},
   "outputs": [],
   "source": []
  }
 ],
 "metadata": {
  "kernelspec": {
   "display_name": "Python 3 (ipykernel)",
   "language": "python",
   "name": "python3"
  },
  "language_info": {
   "codemirror_mode": {
    "name": "ipython",
    "version": 3
   },
   "file_extension": ".py",
   "mimetype": "text/x-python",
   "name": "python",
   "nbconvert_exporter": "python",
   "pygments_lexer": "ipython3",
   "version": "3.9.9"
  }
 },
 "nbformat": 4,
 "nbformat_minor": 5
}
