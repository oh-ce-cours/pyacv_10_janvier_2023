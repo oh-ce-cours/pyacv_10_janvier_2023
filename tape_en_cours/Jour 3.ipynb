{
 "cells": [
  {
   "cell_type": "markdown",
   "id": "e534f2a0",
   "metadata": {},
   "source": [
    "# Rappels jour 2 \n",
    "\n",
    "* gotchas sur les fonctions \n",
    "    * pas d'arguments mutables en entré\n",
    "    * accès aux varaible : L(ocal) E(nglobing) G(lobal) B(uiltin)\n",
    "    * les variables englobing sont passées par closure\n",
    "    * en python les closures : \n",
    "        * sont late binding \n",
    "        * sont en lecture seule\n",
    "* curryfication =>  passer d'une fonction à N arguments à N fonctions imbriquées à 1 argument chacune \n",
    "* décorateurs\n",
    "    * "
   ]
  },
  {
   "cell_type": "code",
   "execution_count": null,
   "id": "f281d055",
   "metadata": {},
   "outputs": [],
   "source": []
  }
 ],
 "metadata": {
  "kernelspec": {
   "display_name": "Python 3 (ipykernel)",
   "language": "python",
   "name": "python3"
  },
  "language_info": {
   "codemirror_mode": {
    "name": "ipython",
    "version": 3
   },
   "file_extension": ".py",
   "mimetype": "text/x-python",
   "name": "python",
   "nbconvert_exporter": "python",
   "pygments_lexer": "ipython3",
   "version": "3.9.9"
  }
 },
 "nbformat": 4,
 "nbformat_minor": 5
}
